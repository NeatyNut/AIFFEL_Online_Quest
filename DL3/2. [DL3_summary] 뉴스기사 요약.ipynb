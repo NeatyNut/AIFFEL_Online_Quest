{
 "cells": [
  {
   "cell_type": "markdown",
   "id": "e4549de8",
   "metadata": {},
   "source": [
    "# 4-1. 프로젝트: 뉴스기사 요약해보기\n",
    "---"
   ]
  },
  {
   "cell_type": "markdown",
   "id": "71352479",
   "metadata": {},
   "source": [
    "## 목차\n",
    "---\n",
    "### Step 1. 데이터 수집하기\n",
    "### Step 2. 데이터 전처리(추상적 요약)\n",
    "### Step 3. 어텐션 메커니즘 사용하기 (추상적 요약)\n",
    "### Step 4. 실제 결과와 요약문 비교하기 (추상적 요약)\n",
    "### Step 5. Summa을 이용해서 추출적 요약해보기\n"
   ]
  },
  {
   "cell_type": "markdown",
   "id": "c5725388",
   "metadata": {},
   "source": [
    "##  Step 1. 데이터 수집하기"
   ]
  },
  {
   "cell_type": "markdown",
   "id": "2a10fcce",
   "metadata": {},
   "source": [
    "- 라이브러리 임포트"
   ]
  },
  {
   "cell_type": "code",
   "execution_count": 1,
   "id": "a849a829",
   "metadata": {},
   "outputs": [
    {
     "name": "stdout",
     "output_type": "stream",
     "text": [
      "3.6.5\n",
      "2.6.0\n",
      "1.3.3\n",
      "1.2.0\n"
     ]
    }
   ],
   "source": [
    "from importlib.metadata import version\n",
    "import nltk\n",
    "import tensorflow\n",
    "import summa\n",
    "import pandas as pd\n",
    "\n",
    "print(nltk.__version__)\n",
    "print(tensorflow.__version__)\n",
    "print(pd.__version__)\n",
    "print(version('summa'))"
   ]
  },
  {
   "cell_type": "markdown",
   "id": "b852b278",
   "metadata": {},
   "source": [
    "- 데이터 수집"
   ]
  },
  {
   "cell_type": "code",
   "execution_count": 2,
   "id": "18da2357",
   "metadata": {},
   "outputs": [],
   "source": [
    "import urllib.request\n",
    "urllib.request.urlretrieve(\"https://raw.githubusercontent.com/sunnysai12345/News_Summary/master/news_summary_more.csv\", filename=\"news_summary_more.csv\")\n",
    "data = pd.read_csv('news_summary_more.csv', encoding='iso-8859-1')"
   ]
  },
  {
   "cell_type": "markdown",
   "id": "377398ec",
   "metadata": {},
   "source": [
    "- 데이터 확인"
   ]
  },
  {
   "cell_type": "code",
   "execution_count": 3,
   "id": "28479b92",
   "metadata": {},
   "outputs": [
    {
     "data": {
      "text/plain": [
       "(98401, 2)"
      ]
     },
     "execution_count": 3,
     "metadata": {},
     "output_type": "execute_result"
    }
   ],
   "source": [
    "data.shape"
   ]
  },
  {
   "cell_type": "code",
   "execution_count": 4,
   "id": "3e3e2444",
   "metadata": {},
   "outputs": [
    {
     "data": {
      "text/html": [
       "<div>\n",
       "<style scoped>\n",
       "    .dataframe tbody tr th:only-of-type {\n",
       "        vertical-align: middle;\n",
       "    }\n",
       "\n",
       "    .dataframe tbody tr th {\n",
       "        vertical-align: top;\n",
       "    }\n",
       "\n",
       "    .dataframe thead th {\n",
       "        text-align: right;\n",
       "    }\n",
       "</style>\n",
       "<table border=\"1\" class=\"dataframe\">\n",
       "  <thead>\n",
       "    <tr style=\"text-align: right;\">\n",
       "      <th></th>\n",
       "      <th>headlines</th>\n",
       "      <th>text</th>\n",
       "    </tr>\n",
       "  </thead>\n",
       "  <tbody>\n",
       "    <tr>\n",
       "      <th>6494</th>\n",
       "      <td>Congress won more number of seats while BJP go...</td>\n",
       "      <td>While Congress emerged as the single largest p...</td>\n",
       "    </tr>\n",
       "    <tr>\n",
       "      <th>70152</th>\n",
       "      <td>14 live bombs recovered in West Bengal a day a...</td>\n",
       "      <td>The police on Thursday recovered 14 live bombs...</td>\n",
       "    </tr>\n",
       "    <tr>\n",
       "      <th>45394</th>\n",
       "      <td>PSL players approached by bookies via social m...</td>\n",
       "      <td>The Pakistan Cricket Board (PCB) has revealed ...</td>\n",
       "    </tr>\n",
       "    <tr>\n",
       "      <th>5743</th>\n",
       "      <td>Man Utd fire JosÃÂ© Mourinho after worst ever...</td>\n",
       "      <td>Manchester United have sacked manager JosÃÂ© ...</td>\n",
       "    </tr>\n",
       "    <tr>\n",
       "      <th>97647</th>\n",
       "      <td>Amazon Founder Jeff Bezos pilots a 13-foot-tal...</td>\n",
       "      <td>Jeff Bezos, the Founder and CEO of Amazon, pil...</td>\n",
       "    </tr>\n",
       "    <tr>\n",
       "      <th>65839</th>\n",
       "      <td>Pained by communal angle given to firecracker ...</td>\n",
       "      <td>The Supreme Court on Friday refused to modify ...</td>\n",
       "    </tr>\n",
       "    <tr>\n",
       "      <th>38935</th>\n",
       "      <td>Deepika rejects xXx 4 offer because of her mar...</td>\n",
       "      <td>As per reports, Deepika Padukone has rejected ...</td>\n",
       "    </tr>\n",
       "    <tr>\n",
       "      <th>75526</th>\n",
       "      <td>People in Telangana town asked to sing nationa...</td>\n",
       "      <td>Police in Telangana's Jammikunta town have rep...</td>\n",
       "    </tr>\n",
       "    <tr>\n",
       "      <th>60924</th>\n",
       "      <td>Security forces told to eliminate those being ...</td>\n",
       "      <td>Following a review of Jammu and Kashmir's secu...</td>\n",
       "    </tr>\n",
       "    <tr>\n",
       "      <th>95467</th>\n",
       "      <td>Use video conferencing instead of summons: Mod...</td>\n",
       "      <td>PM Narendra Modi on Sunday said the courts cou...</td>\n",
       "    </tr>\n",
       "  </tbody>\n",
       "</table>\n",
       "</div>"
      ],
      "text/plain": [
       "                                               headlines  \\\n",
       "6494   Congress won more number of seats while BJP go...   \n",
       "70152  14 live bombs recovered in West Bengal a day a...   \n",
       "45394  PSL players approached by bookies via social m...   \n",
       "5743   Man Utd fire JosÃÂ© Mourinho after worst ever...   \n",
       "97647  Amazon Founder Jeff Bezos pilots a 13-foot-tal...   \n",
       "65839  Pained by communal angle given to firecracker ...   \n",
       "38935  Deepika rejects xXx 4 offer because of her mar...   \n",
       "75526  People in Telangana town asked to sing nationa...   \n",
       "60924  Security forces told to eliminate those being ...   \n",
       "95467  Use video conferencing instead of summons: Mod...   \n",
       "\n",
       "                                                    text  \n",
       "6494   While Congress emerged as the single largest p...  \n",
       "70152  The police on Thursday recovered 14 live bombs...  \n",
       "45394  The Pakistan Cricket Board (PCB) has revealed ...  \n",
       "5743   Manchester United have sacked manager JosÃÂ© ...  \n",
       "97647  Jeff Bezos, the Founder and CEO of Amazon, pil...  \n",
       "65839  The Supreme Court on Friday refused to modify ...  \n",
       "38935  As per reports, Deepika Padukone has rejected ...  \n",
       "75526  Police in Telangana's Jammikunta town have rep...  \n",
       "60924  Following a review of Jammu and Kashmir's secu...  \n",
       "95467  PM Narendra Modi on Sunday said the courts cou...  "
      ]
     },
     "execution_count": 4,
     "metadata": {},
     "output_type": "execute_result"
    }
   ],
   "source": [
    "data.sample(10)"
   ]
  },
  {
   "cell_type": "code",
   "execution_count": 5,
   "id": "7e6b97a7",
   "metadata": {},
   "outputs": [
    {
     "name": "stdout",
     "output_type": "stream",
     "text": [
      "headlines의 첫 번째 데이터 길이 : 65\n",
      "text의 첫 번째 데이터 길이 : 375\n"
     ]
    }
   ],
   "source": [
    "print(\"headlines의 첫 번째 데이터 길이 : {}\".format(len(data['headlines'][0])))\n",
    "print(\"text의 첫 번째 데이터 길이 : {}\".format(len(data['text'][0])))"
   ]
  },
  {
   "cell_type": "markdown",
   "id": "3c1de30f",
   "metadata": {},
   "source": [
    "- ✨headlines이 짧은 걸 확인할 수 있어 \"Summary\"에 해당한 부분이라고 알 수 있다."
   ]
  },
  {
   "cell_type": "markdown",
   "id": "709a9827",
   "metadata": {},
   "source": [
    "### Step 2. 데이터 전처리(추상적 요약)"
   ]
  },
  {
   "cell_type": "markdown",
   "id": "b9229bd5",
   "metadata": {},
   "source": [
    "### 1) 중복 및 결측치 제거"
   ]
  },
  {
   "cell_type": "code",
   "execution_count": 6,
   "id": "584b82cf",
   "metadata": {},
   "outputs": [
    {
     "name": "stdout",
     "output_type": "stream",
     "text": [
      "text 열에서 중복을 배제한 샘플의 수 : 98360\n",
      "headlines 열에서 중복을 배제한 샘플의 수 : 98280\n"
     ]
    }
   ],
   "source": [
    "print('text 열에서 중복을 배제한 샘플의 수 :', data['text'].nunique())\n",
    "print('headlines 열에서 중복을 배제한 샘플의 수 :', data['headlines'].nunique())"
   ]
  },
  {
   "cell_type": "markdown",
   "id": "5df3a50d",
   "metadata": {},
   "source": [
    "- Text를 기준으로 중복제거"
   ]
  },
  {
   "cell_type": "code",
   "execution_count": 7,
   "id": "932a26e2",
   "metadata": {},
   "outputs": [
    {
     "name": "stdout",
     "output_type": "stream",
     "text": [
      "전체 샘플수 : 98360\n"
     ]
    }
   ],
   "source": [
    "data.drop_duplicates(subset=['text'], inplace=True)\n",
    "print('전체 샘플수 :', (len(data)))"
   ]
  },
  {
   "cell_type": "markdown",
   "id": "16aacc04",
   "metadata": {},
   "source": [
    "- 결측치 확인"
   ]
  },
  {
   "cell_type": "code",
   "execution_count": 8,
   "id": "5b4c26b5",
   "metadata": {},
   "outputs": [
    {
     "name": "stdout",
     "output_type": "stream",
     "text": [
      "headlines    0\n",
      "text         0\n",
      "dtype: int64\n"
     ]
    }
   ],
   "source": [
    "print(data.isnull().sum())"
   ]
  },
  {
   "cell_type": "markdown",
   "id": "8331fd52",
   "metadata": {},
   "source": [
    "- 결측치는 따로 없으므로 dropna은 진행하지 않습니다."
   ]
  },
  {
   "cell_type": "code",
   "execution_count": 9,
   "id": "b8309041",
   "metadata": {},
   "outputs": [
    {
     "name": "stdout",
     "output_type": "stream",
     "text": [
      "전체 샘플수 : 98360\n"
     ]
    }
   ],
   "source": [
    "print('전체 샘플수 :', (len(data)))"
   ]
  },
  {
   "cell_type": "markdown",
   "id": "49fbcf9a",
   "metadata": {},
   "source": [
    "### 2) 텍스트 정규화와 불용어 제거"
   ]
  },
  {
   "cell_type": "markdown",
   "id": "9e4860ba",
   "metadata": {},
   "source": [
    "- 정규화 데이터"
   ]
  },
  {
   "cell_type": "markdown",
   "id": "14935ada",
   "metadata": {},
   "source": [
    "<center>[정규화 사전 출처](https://stackoverflow.com/questions/19790188/expanding-english-language-contractions-in-python)</center>"
   ]
  },
  {
   "cell_type": "code",
   "execution_count": 10,
   "id": "8fa2de79",
   "metadata": {},
   "outputs": [
    {
     "name": "stdout",
     "output_type": "stream",
     "text": [
      "정규화 사전의 수:  120\n"
     ]
    }
   ],
   "source": [
    "contractions = {\"ain't\": \"is not\", \"aren't\": \"are not\",\"can't\": \"cannot\", \"'cause\": \"because\", \"could've\": \"could have\", \"couldn't\": \"could not\",\n",
    "                           \"didn't\": \"did not\",  \"doesn't\": \"does not\", \"don't\": \"do not\", \"hadn't\": \"had not\", \"hasn't\": \"has not\", \"haven't\": \"have not\",\n",
    "                           \"he'd\": \"he would\",\"he'll\": \"he will\", \"he's\": \"he is\", \"how'd\": \"how did\", \"how'd'y\": \"how do you\", \"how'll\": \"how will\", \"how's\": \"how is\",\n",
    "                           \"I'd\": \"I would\", \"I'd've\": \"I would have\", \"I'll\": \"I will\", \"I'll've\": \"I will have\",\"I'm\": \"I am\", \"I've\": \"I have\", \"i'd\": \"i would\",\n",
    "                           \"i'd've\": \"i would have\", \"i'll\": \"i will\",  \"i'll've\": \"i will have\",\"i'm\": \"i am\", \"i've\": \"i have\", \"isn't\": \"is not\", \"it'd\": \"it would\",\n",
    "                           \"it'd've\": \"it would have\", \"it'll\": \"it will\", \"it'll've\": \"it will have\",\"it's\": \"it is\", \"let's\": \"let us\", \"ma'am\": \"madam\",\n",
    "                           \"mayn't\": \"may not\", \"might've\": \"might have\",\"mightn't\": \"might not\",\"mightn't've\": \"might not have\", \"must've\": \"must have\",\n",
    "                           \"mustn't\": \"must not\", \"mustn't've\": \"must not have\", \"needn't\": \"need not\", \"needn't've\": \"need not have\",\"o'clock\": \"of the clock\",\n",
    "                           \"oughtn't\": \"ought not\", \"oughtn't've\": \"ought not have\", \"shan't\": \"shall not\", \"sha'n't\": \"shall not\", \"shan't've\": \"shall not have\",\n",
    "                           \"she'd\": \"she would\", \"she'd've\": \"she would have\", \"she'll\": \"she will\", \"she'll've\": \"she will have\", \"she's\": \"she is\",\n",
    "                           \"should've\": \"should have\", \"shouldn't\": \"should not\", \"shouldn't've\": \"should not have\", \"so've\": \"so have\",\"so's\": \"so as\",\n",
    "                           \"this's\": \"this is\",\"that'd\": \"that would\", \"that'd've\": \"that would have\", \"that's\": \"that is\", \"there'd\": \"there would\",\n",
    "                           \"there'd've\": \"there would have\", \"there's\": \"there is\", \"here's\": \"here is\",\"they'd\": \"they would\", \"they'd've\": \"they would have\",\n",
    "                           \"they'll\": \"they will\", \"they'll've\": \"they will have\", \"they're\": \"they are\", \"they've\": \"they have\", \"to've\": \"to have\",\n",
    "                           \"wasn't\": \"was not\", \"we'd\": \"we would\", \"we'd've\": \"we would have\", \"we'll\": \"we will\", \"we'll've\": \"we will have\", \"we're\": \"we are\",\n",
    "                           \"we've\": \"we have\", \"weren't\": \"were not\", \"what'll\": \"what will\", \"what'll've\": \"what will have\", \"what're\": \"what are\",\n",
    "                           \"what's\": \"what is\", \"what've\": \"what have\", \"when's\": \"when is\", \"when've\": \"when have\", \"where'd\": \"where did\", \"where's\": \"where is\",\n",
    "                           \"where've\": \"where have\", \"who'll\": \"who will\", \"who'll've\": \"who will have\", \"who's\": \"who is\", \"who've\": \"who have\",\n",
    "                           \"why's\": \"why is\", \"why've\": \"why have\", \"will've\": \"will have\", \"won't\": \"will not\", \"won't've\": \"will not have\",\n",
    "                           \"would've\": \"would have\", \"wouldn't\": \"would not\", \"wouldn't've\": \"would not have\", \"y'all\": \"you all\",\n",
    "                           \"y'all'd\": \"you all would\",\"y'all'd've\": \"you all would have\",\"y'all're\": \"you all are\",\"y'all've\": \"you all have\",\n",
    "                           \"you'd\": \"you would\", \"you'd've\": \"you would have\", \"you'll\": \"you will\", \"you'll've\": \"you will have\",\n",
    "                           \"you're\": \"you are\", \"you've\": \"you have\"}\n",
    "\n",
    "print(\"정규화 사전의 수: \", len(contractions))"
   ]
  },
  {
   "cell_type": "markdown",
   "id": "f13c7e6c",
   "metadata": {},
   "source": [
    "- 불용어 데이터"
   ]
  },
  {
   "cell_type": "code",
   "execution_count": 11,
   "id": "3fbdf680",
   "metadata": {},
   "outputs": [
    {
     "name": "stdout",
     "output_type": "stream",
     "text": [
      "179\n",
      "----\n",
      "['i', 'me', 'my', 'myself', 'we', 'our', 'ours', 'ourselves', 'you', \"you're\", \"you've\", \"you'll\", \"you'd\", 'your', 'yours', 'yourself', 'yourselves', 'he', 'him', 'his', 'himself', 'she', \"she's\", 'her', 'hers', 'herself', 'it', \"it's\", 'its', 'itself', 'they', 'them', 'their', 'theirs', 'themselves', 'what', 'which', 'who', 'whom', 'this', 'that', \"that'll\", 'these', 'those', 'am', 'is', 'are', 'was', 'were', 'be', 'been', 'being', 'have', 'has', 'had', 'having', 'do', 'does', 'did', 'doing', 'a', 'an', 'the', 'and', 'but', 'if', 'or', 'because', 'as', 'until', 'while', 'of', 'at', 'by', 'for', 'with', 'about', 'against', 'between', 'into', 'through', 'during', 'before', 'after', 'above', 'below', 'to', 'from', 'up', 'down', 'in', 'out', 'on', 'off', 'over', 'under', 'again', 'further', 'then', 'once', 'here', 'there', 'when', 'where', 'why', 'how', 'all', 'any', 'both', 'each', 'few', 'more', 'most', 'other', 'some', 'such', 'no', 'nor', 'not', 'only', 'own', 'same', 'so', 'than', 'too', 'very', 's', 't', 'can', 'will', 'just', 'don', \"don't\", 'should', \"should've\", 'now', 'd', 'll', 'm', 'o', 're', 've', 'y', 'ain', 'aren', \"aren't\", 'couldn', \"couldn't\", 'didn', \"didn't\", 'doesn', \"doesn't\", 'hadn', \"hadn't\", 'hasn', \"hasn't\", 'haven', \"haven't\", 'isn', \"isn't\", 'ma', 'mightn', \"mightn't\", 'mustn', \"mustn't\", 'needn', \"needn't\", 'shan', \"shan't\", 'shouldn', \"shouldn't\", 'wasn', \"wasn't\", 'weren', \"weren't\", 'won', \"won't\", 'wouldn', \"wouldn't\"]\n"
     ]
    },
    {
     "name": "stderr",
     "output_type": "stream",
     "text": [
      "[nltk_data] Downloading package stopwords to /aiffel/nltk_data...\n",
      "[nltk_data]   Package stopwords is already up-to-date!\n"
     ]
    }
   ],
   "source": [
    "import nltk\n",
    "nltk.download('stopwords')\n",
    "\n",
    "from nltk.corpus import stopwords\n",
    "print(len(stopwords.words('english')))\n",
    "print(\"-\"*4)\n",
    "print(stopwords.words('english'))"
   ]
  },
  {
   "cell_type": "markdown",
   "id": "47e95188",
   "metadata": {},
   "source": [
    "- 데이터 전처리 함수"
   ]
  },
  {
   "cell_type": "code",
   "execution_count": 12,
   "id": "dec5880b",
   "metadata": {},
   "outputs": [],
   "source": [
    "import re\n",
    "from bs4 import BeautifulSoup\n",
    "\n",
    "# 데이터 전처리 함수\n",
    "def preprocess_sentence(sentence, remove_stopwords=True):\n",
    "    sentence = sentence.lower() # 텍스트 소문자화\n",
    "    sentence = BeautifulSoup(sentence, \"lxml\").text # <br />, <a href = ...> 등의 html 태그 제거  ## .find_all\n",
    "    sentence = re.sub(r'\\([^)]*\\)', '', sentence) # 괄호로 닫힌 문자열 (...) 제거 Ex) my husband (and myself!) for => my husband for\n",
    "    sentence = re.sub('\"','', sentence) # 쌍따옴표 \" 제거\n",
    "    sentence = ' '.join([contractions[t] if t in contractions else t for t in sentence.split(\" \")]) # 약어 정규화\n",
    "    sentence = re.sub(r\"'s\\b\",\"\", sentence) # 소유격 제거. Ex) roland's -> roland\n",
    "    sentence = re.sub(\"[^a-zA-Z]\", \" \", sentence) # 영어 외 문자(숫자, 특수문자 등) 공백으로 변환\n",
    "    sentence = re.sub('[m]{2,}', 'mm', sentence) # m이 3개 이상이면 2개로 변경. Ex) ummmmmmm yeah -> umm yeah\n",
    "    \n",
    "    # 불용어 제거 (Text)\n",
    "    if remove_stopwords:\n",
    "        tokens = ' '.join(word for word in sentence.split() if not word in stopwords.words('english') if len(word) > 1)\n",
    "    # 불용어 미제거 (Summary)\n",
    "    else:\n",
    "        tokens = ' '.join(word for word in sentence.split() if len(word) > 1)\n",
    "    return tokens"
   ]
  },
  {
   "cell_type": "code",
   "execution_count": 13,
   "id": "f504e0c1",
   "metadata": {},
   "outputs": [
    {
     "name": "stdout",
     "output_type": "stream",
     "text": [
      "text:  everything bought great infact ordered twice third ordered wasfor mother father\n",
      "headlines: great way to start the day\n"
     ]
    }
   ],
   "source": [
    "temp_text = 'Everything I bought was great, infact I ordered twice and the third ordered was<br />for my mother and father.'\n",
    "temp_headlines = 'Great way to start (or finish) the day!!!'\n",
    "\n",
    "print(\"text: \", preprocess_sentence(temp_text))\n",
    "print(\"headlines:\", preprocess_sentence(temp_headlines, False))  # 불용어를 제거하지 않습니다."
   ]
  },
  {
   "cell_type": "markdown",
   "id": "880e4778",
   "metadata": {},
   "source": [
    "- 보다시피 전처리된 모습을 확인할 수 있다."
   ]
  },
  {
   "cell_type": "code",
   "execution_count": 14,
   "id": "2fdacd0f",
   "metadata": {},
   "outputs": [
    {
     "name": "stdout",
     "output_type": "stream",
     "text": [
      "Text 전처리 후 결과:  0    saurav kant alumnus upgrad iiit pg program mac...\n",
      "1    kunal shah credit card bill payment platform c...\n",
      "2    new zealand defeated india wickets fourth odi ...\n",
      "3    aegon life iterm insurance plan customers enjo...\n",
      "4    speaking sexual harassment allegations rajkuma...\n",
      "Name: text, dtype: object\n"
     ]
    }
   ],
   "source": [
    "clean_text = data['text'].apply(lambda x:preprocess_sentence(x))\n",
    "\n",
    "# 전처리 후 출력\n",
    "print(\"Text 전처리 후 결과: \", clean_text[:5])"
   ]
  },
  {
   "cell_type": "code",
   "execution_count": 15,
   "id": "288881d5",
   "metadata": {},
   "outputs": [
    {
     "name": "stdout",
     "output_type": "stream",
     "text": [
      "headlines 전처리 후 결과:  0    upgrad learner switches to career in ml al wit...\n",
      "1    delhi techie wins free food from swiggy for on...\n",
      "2    new zealand end rohit sharma led india match w...\n",
      "3    aegon life iterm insurance plan helps customer...\n",
      "4    have known hirani for yrs what if metoo claims...\n",
      "Name: headlines, dtype: object\n"
     ]
    }
   ],
   "source": [
    "clean_headlines = data['headlines'].apply(lambda x:preprocess_sentence(x, False))\n",
    "\n",
    "print(\"headlines 전처리 후 결과: \", clean_headlines[:5])"
   ]
  },
  {
   "cell_type": "code",
   "execution_count": 17,
   "id": "4ecc1817",
   "metadata": {},
   "outputs": [],
   "source": [
    "import numpy as np\n",
    "\n",
    "data['text'] = clean_text\n",
    "data['headlines'] = clean_headlines\n",
    "\n",
    "# 빈 값을 Null 값으로 변환\n",
    "data.replace('', np.nan, inplace=True)"
   ]
  },
  {
   "cell_type": "code",
   "execution_count": 18,
   "id": "fe2c3379",
   "metadata": {},
   "outputs": [
    {
     "data": {
      "text/plain": [
       "headlines    0\n",
       "text         0\n",
       "dtype: int64"
      ]
     },
     "execution_count": 18,
     "metadata": {},
     "output_type": "execute_result"
    }
   ],
   "source": [
    "data.isnull().sum()"
   ]
  },
  {
   "cell_type": "markdown",
   "id": "4c13d0e5",
   "metadata": {},
   "source": [
    "- 결측치가 없으니 dropna은 따로 진행하지 않겠다."
   ]
  },
  {
   "cell_type": "code",
   "execution_count": 19,
   "id": "beb0a210",
   "metadata": {},
   "outputs": [
    {
     "name": "stdout",
     "output_type": "stream",
     "text": [
      "전체 샘플수 : 98360\n"
     ]
    }
   ],
   "source": [
    "print('전체 샘플수 :', (len(data)))"
   ]
  },
  {
   "cell_type": "markdown",
   "id": "8beebe84",
   "metadata": {},
   "source": [
    "### 3) 훈련데이터와 테스트데이터 나누기"
   ]
  },
  {
   "cell_type": "code",
   "execution_count": 20,
   "id": "740d0e49",
   "metadata": {},
   "outputs": [
    {
     "name": "stdout",
     "output_type": "stream",
     "text": [
      "텍스트의 최소 길이 : 1\n",
      "텍스트의 최대 길이 : 60\n",
      "텍스트의 평균 길이 : 35.09968483123221\n",
      "요약의 최소 길이 : 1\n",
      "요약의 최대 길이 : 16\n",
      "요약의 평균 길이 : 9.299532330215534\n"
     ]
    },
    {
     "data": {
      "image/png": "[encoded data removed]",
      "text/plain": [
       "<Figure size 864x576 with 2 Axes>"
      ]
     },
     "metadata": {
      "needs_background": "light"
     },
     "output_type": "display_data"
    },
    {
     "data": {
      "image/png": "[encoded data removed]",
      "text/plain": [
       "<Figure size 864x576 with 1 Axes>"
      ]
     },
     "metadata": {
      "needs_background": "light"
     },
     "output_type": "display_data"
    },
    {
     "data": {
      "image/png": "[encoded data removed]",
      "text/plain": [
       "<Figure size 864x576 with 1 Axes>"
      ]
     },
     "metadata": {
      "needs_background": "light"
     },
     "output_type": "display_data"
    }
   ],
   "source": [
    "# 길이 분포 출력\n",
    "import matplotlib.pyplot as plt\n",
    "\n",
    "text_len = [len(s.split()) for s in data['text']]\n",
    "headlines_len = [len(s.split()) for s in data['headlines']]\n",
    "\n",
    "print('텍스트의 최소 길이 : {}'.format(np.min(text_len)))\n",
    "print('텍스트의 최대 길이 : {}'.format(np.max(text_len)))\n",
    "print('텍스트의 평균 길이 : {}'.format(np.mean(text_len)))\n",
    "print('요약의 최소 길이 : {}'.format(np.min(headlines_len)))\n",
    "print('요약의 최대 길이 : {}'.format(np.max(headlines_len)))\n",
    "print('요약의 평균 길이 : {}'.format(np.mean(headlines_len)))\n",
    "\n",
    "plt.figure(figsize=(12, 8))\n",
    "plt.subplot(1,2,1)\n",
    "plt.boxplot(text_len)\n",
    "plt.title('text')\n",
    "plt.subplot(1,2,2)\n",
    "plt.boxplot(headlines_len)\n",
    "plt.title('headlines')\n",
    "plt.tight_layout()\n",
    "plt.show()\n",
    "\n",
    "plt.figure(figsize=(12, 8))\n",
    "plt.title('text')\n",
    "plt.hist(text_len, bins = 40)\n",
    "plt.xlabel('length of samples')\n",
    "plt.ylabel('number of samples')\n",
    "plt.show()\n",
    "\n",
    "plt.figure(figsize=(12, 8))\n",
    "plt.title('headlines')\n",
    "plt.hist(headlines_len, bins = 40)\n",
    "plt.xlabel('length of samples')\n",
    "plt.ylabel('number of samples')\n",
    "plt.show()"
   ]
  },
  {
   "cell_type": "markdown",
   "id": "6b966acc",
   "metadata": {},
   "source": [
    "- boxplot을 확인해보면\n",
    "    - Q3 + 1.5 x IQR 쯤 이상의 값\n",
    "    - Q1 - 1.5 x IQR 이하의 값\n",
    "- 은 이상치로 판단하는 게 좋을 듯 하다."
   ]
  },
  {
   "cell_type": "code",
   "execution_count": 21,
   "id": "859ac1bb",
   "metadata": {},
   "outputs": [
    {
     "name": "stdout",
     "output_type": "stream",
     "text": [
      "text의 upperline 값은 45\n",
      "text의 underline 값은 25\n"
     ]
    }
   ],
   "source": [
    "text_count_Q1 = pd.Series(text_len).quantile(0.25) # 사분위수 Q1 추출\n",
    "text_count_Q3 = pd.Series(text_len).quantile(0.75) # 사분위수 Q3 추출\n",
    "text_count_IQR = text_count_Q3 - text_count_Q1 # IQR 구함\n",
    "\n",
    "text_max_len = int(text_count_Q3 + text_count_IQR*1.5) # upperline\n",
    "text_min_len = int(text_count_Q1 - text_count_IQR*1.5) # underline\n",
    "\n",
    "print('%s의 upperline 값은 %s'%('text', text_max_len))\n",
    "print('%s의 underline 값은 %s'%('text', text_min_len))"
   ]
  },
  {
   "cell_type": "code",
   "execution_count": 22,
   "id": "c6423884",
   "metadata": {},
   "outputs": [
    {
     "name": "stdout",
     "output_type": "stream",
     "text": [
      "headlines의 upperline 값은 13\n",
      "headlines의 underline 값은 5\n"
     ]
    }
   ],
   "source": [
    "headlines_count_Q1 = pd.Series(headlines_len).quantile(0.25) # 사분위수 Q1 추출\n",
    "headlines_count_Q3 = pd.Series(headlines_len).quantile(0.75) # 사분위수 Q3 추출\n",
    "headlines_count_IQR = headlines_count_Q3 - headlines_count_Q1 # IQR 구함\n",
    "\n",
    "headlines_max_len = int(headlines_count_Q3 + headlines_count_IQR*1.5) # upperline\n",
    "headlines_min_len = int(headlines_count_Q1 - headlines_count_IQR*1.5) # underline\n",
    "\n",
    "print('%s의 upperline 값은 %s'%('headlines', headlines_max_len))\n",
    "print('%s의 underline 값은 %s'%('headlines', headlines_min_len))"
   ]
  },
  {
   "cell_type": "code",
   "execution_count": 23,
   "id": "ce325916",
   "metadata": {},
   "outputs": [],
   "source": [
    "def threshold_len(nested_list, max_len, min_len=0):\n",
    "  cnt = 0\n",
    "  for s in nested_list:\n",
    "    if (len(s.split()) <= max_len) and (len(s.split()) >= min_len) :\n",
    "        cnt = cnt + 1\n",
    "  print('전체 샘플 중 %s이하 및 %s이상인 샘플의 비율: %s'%(max_len, min_len, (cnt / len(nested_list))))"
   ]
  },
  {
   "cell_type": "markdown",
   "id": "57574486",
   "metadata": {},
   "source": [
    "- 원본 데이터 백업"
   ]
  },
  {
   "cell_type": "code",
   "execution_count": 24,
   "id": "444b7336",
   "metadata": {},
   "outputs": [],
   "source": [
    "data2 = data.copy()"
   ]
  },
  {
   "cell_type": "code",
   "execution_count": 25,
   "id": "152d6873",
   "metadata": {},
   "outputs": [
    {
     "name": "stdout",
     "output_type": "stream",
     "text": [
      "전체 샘플 중 45이하 및 25이상인 샘플의 비율: 0.994408296055307\n",
      "전체 샘플 중 13이하 및 5이상인 샘플의 비율: 0.9979971533143555\n"
     ]
    }
   ],
   "source": [
    "threshold_len(data['text'], text_max_len, text_min_len)\n",
    "threshold_len(data['headlines'], headlines_max_len, headlines_min_len)"
   ]
  },
  {
   "cell_type": "markdown",
   "id": "94b70b2c",
   "metadata": {},
   "source": [
    "- 거의 문장을 보존한 채 이상치만 제거가 가능한 것으로 보인다."
   ]
  },
  {
   "cell_type": "code",
   "execution_count": 26,
   "id": "4f3599d1",
   "metadata": {},
   "outputs": [
    {
     "name": "stdout",
     "output_type": "stream",
     "text": [
      "전체 샘플수 : 97614\n"
     ]
    }
   ],
   "source": [
    "data['text'] = data['text'].apply(lambda x:x if (len(x.split()) <= text_max_len) and (len(x.split()) >= text_min_len) else np.nan)\n",
    "data['headlines'] = data['headlines'].apply(lambda x:x if (len(x.split()) <= headlines_max_len) and (len(x.split()) >= headlines_min_len) else np.nan)\n",
    "data.dropna(axis=0, inplace=True)\n",
    "\n",
    "print('전체 샘플수 :', (len(data)))"
   ]
  },
  {
   "cell_type": "code",
   "execution_count": 27,
   "id": "52921965",
   "metadata": {},
   "outputs": [
    {
     "data": {
      "text/html": [
       "<div>\n",
       "<style scoped>\n",
       "    .dataframe tbody tr th:only-of-type {\n",
       "        vertical-align: middle;\n",
       "    }\n",
       "\n",
       "    .dataframe tbody tr th {\n",
       "        vertical-align: top;\n",
       "    }\n",
       "\n",
       "    .dataframe thead th {\n",
       "        text-align: right;\n",
       "    }\n",
       "</style>\n",
       "<table border=\"1\" class=\"dataframe\">\n",
       "  <thead>\n",
       "    <tr style=\"text-align: right;\">\n",
       "      <th></th>\n",
       "      <th>headlines</th>\n",
       "      <th>text</th>\n",
       "      <th>decoder_input</th>\n",
       "      <th>decoder_target</th>\n",
       "    </tr>\n",
       "  </thead>\n",
       "  <tbody>\n",
       "    <tr>\n",
       "      <th>0</th>\n",
       "      <td>upgrad learner switches to career in ml al wit...</td>\n",
       "      <td>saurav kant alumnus upgrad iiit pg program mac...</td>\n",
       "      <td>sostoken upgrad learner switches to career in ...</td>\n",
       "      <td>upgrad learner switches to career in ml al wit...</td>\n",
       "    </tr>\n",
       "    <tr>\n",
       "      <th>1</th>\n",
       "      <td>delhi techie wins free food from swiggy for on...</td>\n",
       "      <td>kunal shah credit card bill payment platform c...</td>\n",
       "      <td>sostoken delhi techie wins free food from swig...</td>\n",
       "      <td>delhi techie wins free food from swiggy for on...</td>\n",
       "    </tr>\n",
       "    <tr>\n",
       "      <th>2</th>\n",
       "      <td>new zealand end rohit sharma led india match w...</td>\n",
       "      <td>new zealand defeated india wickets fourth odi ...</td>\n",
       "      <td>sostoken new zealand end rohit sharma led indi...</td>\n",
       "      <td>new zealand end rohit sharma led india match w...</td>\n",
       "    </tr>\n",
       "    <tr>\n",
       "      <th>3</th>\n",
       "      <td>aegon life iterm insurance plan helps customer...</td>\n",
       "      <td>aegon life iterm insurance plan customers enjo...</td>\n",
       "      <td>sostoken aegon life iterm insurance plan helps...</td>\n",
       "      <td>aegon life iterm insurance plan helps customer...</td>\n",
       "    </tr>\n",
       "    <tr>\n",
       "      <th>4</th>\n",
       "      <td>have known hirani for yrs what if metoo claims...</td>\n",
       "      <td>speaking sexual harassment allegations rajkuma...</td>\n",
       "      <td>sostoken have known hirani for yrs what if met...</td>\n",
       "      <td>have known hirani for yrs what if metoo claims...</td>\n",
       "    </tr>\n",
       "  </tbody>\n",
       "</table>\n",
       "</div>"
      ],
      "text/plain": [
       "                                           headlines  \\\n",
       "0  upgrad learner switches to career in ml al wit...   \n",
       "1  delhi techie wins free food from swiggy for on...   \n",
       "2  new zealand end rohit sharma led india match w...   \n",
       "3  aegon life iterm insurance plan helps customer...   \n",
       "4  have known hirani for yrs what if metoo claims...   \n",
       "\n",
       "                                                text  \\\n",
       "0  saurav kant alumnus upgrad iiit pg program mac...   \n",
       "1  kunal shah credit card bill payment platform c...   \n",
       "2  new zealand defeated india wickets fourth odi ...   \n",
       "3  aegon life iterm insurance plan customers enjo...   \n",
       "4  speaking sexual harassment allegations rajkuma...   \n",
       "\n",
       "                                       decoder_input  \\\n",
       "0  sostoken upgrad learner switches to career in ...   \n",
       "1  sostoken delhi techie wins free food from swig...   \n",
       "2  sostoken new zealand end rohit sharma led indi...   \n",
       "3  sostoken aegon life iterm insurance plan helps...   \n",
       "4  sostoken have known hirani for yrs what if met...   \n",
       "\n",
       "                                      decoder_target  \n",
       "0  upgrad learner switches to career in ml al wit...  \n",
       "1  delhi techie wins free food from swiggy for on...  \n",
       "2  new zealand end rohit sharma led india match w...  \n",
       "3  aegon life iterm insurance plan helps customer...  \n",
       "4  have known hirani for yrs what if metoo claims...  "
      ]
     },
     "execution_count": 27,
     "metadata": {},
     "output_type": "execute_result"
    }
   ],
   "source": [
    "# 요약 데이터에는 시작 토큰과 종료 토큰을 추가한다.\n",
    "data['decoder_input'] = data['headlines'].apply(lambda x : 'sostoken '+ x)\n",
    "data['decoder_target'] = data['headlines'].apply(lambda x : x + ' eostoken')\n",
    "data.head()"
   ]
  },
  {
   "cell_type": "code",
   "execution_count": 55,
   "id": "bb286c68",
   "metadata": {},
   "outputs": [],
   "source": [
    "encoder_input = np.array(data['text']) # 인코더의 입력\n",
    "decoder_input = np.array(data['decoder_input']) # 디코더의 입력\n",
    "decoder_target = np.array(data['decoder_target']) # 디코더의 레이블"
   ]
  },
  {
   "cell_type": "markdown",
   "id": "9298e8ac",
   "metadata": {},
   "source": [
    "- 순서를 섞기 위해 데이터 개수만큼 배열 생성"
   ]
  },
  {
   "cell_type": "code",
   "execution_count": 56,
   "id": "ff963241",
   "metadata": {},
   "outputs": [
    {
     "name": "stdout",
     "output_type": "stream",
     "text": [
      "[22901 67426 36313 ... 37633 46760 86458]\n"
     ]
    }
   ],
   "source": [
    "indices = np.arange(encoder_input.shape[0])\n",
    "np.random.shuffle(indices)\n",
    "print(indices)"
   ]
  },
  {
   "cell_type": "code",
   "execution_count": 57,
   "id": "bc3641d3",
   "metadata": {},
   "outputs": [],
   "source": [
    "encoder_input = encoder_input[indices]\n",
    "decoder_input = decoder_input[indices]\n",
    "decoder_target = decoder_target[indices]"
   ]
  },
  {
   "cell_type": "markdown",
   "id": "c2c62e5e",
   "metadata": {},
   "source": [
    "- 20%만큼 테스트 데이터 분류"
   ]
  },
  {
   "cell_type": "code",
   "execution_count": 58,
   "id": "518299ec",
   "metadata": {},
   "outputs": [
    {
     "name": "stdout",
     "output_type": "stream",
     "text": [
      "테스트 데이터의 수 : 19522\n"
     ]
    }
   ],
   "source": [
    "n_of_val = int(len(encoder_input)*0.2)\n",
    "print('테스트 데이터의 수 :', n_of_val)"
   ]
  },
  {
   "cell_type": "code",
   "execution_count": 59,
   "id": "d3023f0c",
   "metadata": {},
   "outputs": [
    {
     "name": "stdout",
     "output_type": "stream",
     "text": [
      "훈련 데이터의 개수 : 78092\n",
      "훈련 레이블의 개수 : 78092\n",
      "테스트 데이터의 개수 : 19522\n",
      "테스트 레이블의 개수 : 19522\n"
     ]
    }
   ],
   "source": [
    "encoder_input_train = encoder_input[:-n_of_val]\n",
    "decoder_input_train = decoder_input[:-n_of_val]\n",
    "decoder_target_train = decoder_target[:-n_of_val]\n",
    "\n",
    "encoder_input_test = encoder_input[-n_of_val:]\n",
    "decoder_input_test = decoder_input[-n_of_val:]\n",
    "decoder_target_test = decoder_target[-n_of_val:]\n",
    "\n",
    "print('훈련 데이터의 개수 :', len(encoder_input_train))\n",
    "print('훈련 레이블의 개수 :', len(decoder_input_train))\n",
    "print('테스트 데이터의 개수 :', len(encoder_input_test))\n",
    "print('테스트 레이블의 개수 :', len(decoder_input_test))"
   ]
  },
  {
   "cell_type": "markdown",
   "id": "6026450c",
   "metadata": {},
   "source": [
    "- 토큰화"
   ]
  },
  {
   "cell_type": "code",
   "execution_count": 60,
   "id": "579867cf",
   "metadata": {},
   "outputs": [],
   "source": [
    "from tensorflow.keras.preprocessing.text import Tokenizer \n",
    "from tensorflow.keras.preprocessing.sequence import pad_sequences"
   ]
  },
  {
   "cell_type": "code",
   "execution_count": 61,
   "id": "d353d4ee",
   "metadata": {},
   "outputs": [],
   "source": [
    "src_tokenizer = Tokenizer() # 토크나이저 정의\n",
    "src_tokenizer.fit_on_texts(encoder_input_train) # 입력된 데이터로부터 단어 집합 생성"
   ]
  },
  {
   "cell_type": "code",
   "execution_count": 62,
   "id": "d13a0627",
   "metadata": {},
   "outputs": [
    {
     "name": "stdout",
     "output_type": "stream",
     "text": [
      "단어 집합(vocabulary)의 크기 : 69331\n",
      "등장 빈도가 9번 이하인 희귀 단어의 수: 50975\n",
      "단어 집합에서 희귀 단어를 제외시킬 경우의 단어 집합의 크기 18356\n",
      "단어 집합에서 희귀 단어의 비율: 73.52410898443698\n",
      "전체 등장 빈도에서 희귀 단어 등장 빈도 비율: 4.575352314427055\n"
     ]
    }
   ],
   "source": [
    "threshold = 10\n",
    "total_cnt = len(src_tokenizer.word_index) # 단어의 수\n",
    "rare_cnt = 0 # 등장 빈도수가 threshold보다 작은 단어의 개수를 카운트\n",
    "total_freq = 0 # 훈련 데이터의 전체 단어 빈도수 총 합\n",
    "rare_freq = 0 # 등장 빈도수가 threshold보다 작은 단어의 등장 빈도수의 총 합\n",
    "\n",
    "# 단어와 빈도수의 쌍(pair)을 key와 value로 받는다.\n",
    "for key, value in src_tokenizer.word_counts.items():\n",
    "    total_freq = total_freq + value\n",
    "\n",
    "    # 단어의 등장 빈도수가 threshold보다 작으면\n",
    "    if(value < threshold):\n",
    "        rare_cnt = rare_cnt + 1\n",
    "        rare_freq = rare_freq + value\n",
    "\n",
    "print('단어 집합(vocabulary)의 크기 :', total_cnt)\n",
    "print('등장 빈도가 %s번 이하인 희귀 단어의 수: %s'%(threshold - 1, rare_cnt))\n",
    "print('단어 집합에서 희귀 단어를 제외시킬 경우의 단어 집합의 크기 %s'%(total_cnt - rare_cnt))\n",
    "print(\"단어 집합에서 희귀 단어의 비율:\", (rare_cnt / total_cnt)*100)\n",
    "print(\"전체 등장 빈도에서 희귀 단어 등장 빈도 비율:\", (rare_freq / total_freq)*100)"
   ]
  },
  {
   "cell_type": "code",
   "execution_count": 63,
   "id": "907407a5",
   "metadata": {},
   "outputs": [],
   "source": [
    "src_vocab = total_cnt - rare_cnt\n",
    "src_tokenizer = Tokenizer(num_words=src_vocab) # 희귀 단어를 제외시킬 경우의 단어 집합으로 제한\n",
    "src_tokenizer.fit_on_texts(encoder_input_train) # 단어 집합 재생성"
   ]
  },
  {
   "cell_type": "code",
   "execution_count": 64,
   "id": "d94df057",
   "metadata": {},
   "outputs": [
    {
     "data": {
      "text/plain": [
       "69331"
      ]
     },
     "execution_count": 64,
     "metadata": {},
     "output_type": "execute_result"
    }
   ],
   "source": [
    "len(src_tokenizer.word_index)"
   ]
  },
  {
   "cell_type": "code",
   "execution_count": 65,
   "id": "18addcfc",
   "metadata": {},
   "outputs": [
    {
     "name": "stdout",
     "output_type": "stream",
     "text": [
      "[[10182, 2, 907, 869, 1022, 269, 1588, 652, 106, 4447, 6228, 10183, 759, 642, 2208, 7990, 2417, 117, 427, 10182, 269, 106, 6, 116, 10183, 1946, 7990, 5357, 642, 7990, 6, 17, 4554, 1462, 1864, 3426, 10183, 263, 849], [420, 36, 87, 7733, 1339, 69, 1, 36, 233, 5031, 609, 37, 9, 16658, 1200, 325, 30, 23, 1, 11156, 1589, 17, 562, 1200, 2104, 29, 131, 5358], [434, 228, 3609, 752, 15320, 67, 2137, 3022, 11, 134, 469, 585, 18, 2636, 19, 293, 2137, 620, 226, 620, 9083, 21, 620, 55, 2, 9083, 3022, 571, 773]]\n"
     ]
    }
   ],
   "source": [
    "# 텍스트 시퀀스를 정수 시퀀스로 변환\n",
    "encoder_input_train = src_tokenizer.texts_to_sequences(encoder_input_train) \n",
    "encoder_input_test = src_tokenizer.texts_to_sequences(encoder_input_test)\n",
    "\n",
    "# 잘 진행되었는지 샘플 출력\n",
    "print(encoder_input_train[:3])"
   ]
  },
  {
   "cell_type": "markdown",
   "id": "166c393a",
   "metadata": {},
   "source": [
    "- encoder_input 데이터를 학습시킬 형태로 변형"
   ]
  },
  {
   "cell_type": "code",
   "execution_count": 66,
   "id": "58d670bc",
   "metadata": {},
   "outputs": [],
   "source": [
    "tar_tokenizer = Tokenizer()\n",
    "tar_tokenizer.fit_on_texts(decoder_input_train)"
   ]
  },
  {
   "cell_type": "code",
   "execution_count": 67,
   "id": "49316f6f",
   "metadata": {},
   "outputs": [
    {
     "name": "stdout",
     "output_type": "stream",
     "text": [
      "단어 집합(vocabulary)의 크기 : 30007\n",
      "등장 빈도가 8번 이하인 희귀 단어의 수: 21838\n",
      "단어 집합에서 희귀 단어를 제외시킬 경우의 단어 집합의 크기 8169\n",
      "단어 집합에서 희귀 단어의 비율: 72.77635218449029\n",
      "전체 등장 빈도에서 희귀 단어 등장 빈도 비율: 6.563419718134586\n"
     ]
    }
   ],
   "source": [
    "threshold = 9\n",
    "total_cnt = len(tar_tokenizer.word_index) # 단어의 수\n",
    "rare_cnt = 0 # 등장 빈도수가 threshold보다 작은 단어의 개수를 카운트\n",
    "total_freq = 0 # 훈련 데이터의 전체 단어 빈도수 총 합\n",
    "rare_freq = 0 # 등장 빈도수가 threshold보다 작은 단어의 등장 빈도수의 총 합\n",
    "\n",
    "# 단어와 빈도수의 쌍(pair)을 key와 value로 받는다.\n",
    "for key, value in tar_tokenizer.word_counts.items():\n",
    "    total_freq = total_freq + value\n",
    "\n",
    "    # 단어의 등장 빈도수가 threshold보다 작으면\n",
    "    if(value < threshold):\n",
    "        rare_cnt = rare_cnt + 1\n",
    "        rare_freq = rare_freq + value\n",
    "\n",
    "print('단어 집합(vocabulary)의 크기 :', total_cnt)\n",
    "print('등장 빈도가 %s번 이하인 희귀 단어의 수: %s'%(threshold - 1, rare_cnt))\n",
    "print('단어 집합에서 희귀 단어를 제외시킬 경우의 단어 집합의 크기 %s'%(total_cnt - rare_cnt))\n",
    "print(\"단어 집합에서 희귀 단어의 비율:\", (rare_cnt / total_cnt)*100)\n",
    "print(\"전체 등장 빈도에서 희귀 단어 등장 빈도 비율:\", (rare_freq / total_freq)*100)"
   ]
  },
  {
   "cell_type": "code",
   "execution_count": 68,
   "id": "1f8cf9d4",
   "metadata": {},
   "outputs": [
    {
     "name": "stdout",
     "output_type": "stream",
     "text": [
      "input\n",
      "input  [[1, 7180, 278, 415, 1746, 357, 5, 842, 3222], [1, 31, 358, 97, 174, 2913, 111, 4103, 4370, 1823], [1, 1434, 334, 3, 384, 2914, 4, 328, 1891, 1229, 219], [1, 7612, 2039, 7, 2972, 78, 156, 3768], [1, 3880, 514, 5, 953, 7]]\n",
      "target\n",
      "decoder  [[7180, 278, 415, 1746, 357, 5, 842, 3222, 2], [31, 358, 97, 174, 2913, 111, 4103, 4370, 1823, 2], [1434, 334, 3, 384, 2914, 4, 328, 1891, 1229, 219, 2], [7612, 2039, 7, 2972, 78, 156, 3768, 2], [3880, 514, 5, 953, 7, 2]]\n"
     ]
    }
   ],
   "source": [
    "tar_vocab = total_cnt - rare_cnt\n",
    "tar_tokenizer = Tokenizer(num_words=tar_vocab) \n",
    "tar_tokenizer.fit_on_texts(decoder_input_train)\n",
    "tar_tokenizer.fit_on_texts(decoder_target_train)\n",
    "\n",
    "# 텍스트 시퀀스를 정수 시퀀스로 변환\n",
    "decoder_input_train = tar_tokenizer.texts_to_sequences(decoder_input_train) \n",
    "decoder_target_train = tar_tokenizer.texts_to_sequences(decoder_target_train)\n",
    "decoder_input_test = tar_tokenizer.texts_to_sequences(decoder_input_test)\n",
    "decoder_target_test = tar_tokenizer.texts_to_sequences(decoder_target_test)\n",
    "\n",
    "# 잘 변환되었는지 확인\n",
    "print('input')\n",
    "print('input ',decoder_input_train[:5])\n",
    "print('target')\n",
    "print('decoder ',decoder_target_train[:5])"
   ]
  },
  {
   "cell_type": "code",
   "execution_count": 70,
   "id": "d04774e5",
   "metadata": {},
   "outputs": [
    {
     "name": "stdout",
     "output_type": "stream",
     "text": [
      "삭제할 훈련 데이터의 개수 : 0\n",
      "삭제할 테스트 데이터의 개수 : 0\n",
      "훈련 데이터의 개수 : 78092\n",
      "훈련 레이블의 개수 : 78092\n",
      "테스트 데이터의 개수 : 19522\n",
      "테스트 레이블의 개수 : 19522\n"
     ]
    }
   ],
   "source": [
    "drop_train = [index for index, sentence in enumerate(decoder_input_train) if len(sentence) == 1]\n",
    "drop_test = [index for index, sentence in enumerate(decoder_input_test) if len(sentence) == 1]\n",
    "\n",
    "print('삭제할 훈련 데이터의 개수 :', len(drop_train))\n",
    "print('삭제할 테스트 데이터의 개수 :', len(drop_test))\n",
    "\n",
    "encoder_input_train = [sentence for index, sentence in enumerate(encoder_input_train) if index not in drop_train]\n",
    "decoder_input_train = [sentence for index, sentence in enumerate(decoder_input_train) if index not in drop_train]\n",
    "decoder_target_train = [sentence for index, sentence in enumerate(decoder_target_train) if index not in drop_train]\n",
    "\n",
    "encoder_input_test = [sentence for index, sentence in enumerate(encoder_input_test) if index not in drop_test]\n",
    "decoder_input_test = [sentence for index, sentence in enumerate(decoder_input_test) if index not in drop_test]\n",
    "decoder_target_test = [sentence for index, sentence in enumerate(decoder_target_test) if index not in drop_test]\n",
    "\n",
    "print('훈련 데이터의 개수 :', len(encoder_input_train))\n",
    "print('훈련 레이블의 개수 :', len(decoder_input_train))\n",
    "print('테스트 데이터의 개수 :', len(encoder_input_test))\n",
    "print('테스트 레이블의 개수 :', len(decoder_input_test))"
   ]
  },
  {
   "cell_type": "markdown",
   "id": "56479209",
   "metadata": {},
   "source": [
    "- padding으로 sentence의 크기를 맞춰줌"
   ]
  },
  {
   "cell_type": "code",
   "execution_count": 71,
   "id": "b0a4b991",
   "metadata": {},
   "outputs": [],
   "source": [
    "encoder_input_train = pad_sequences(encoder_input_train, maxlen=text_max_len, padding='post')\n",
    "encoder_input_test = pad_sequences(encoder_input_test, maxlen=text_max_len, padding='post')\n",
    "decoder_input_train = pad_sequences(decoder_input_train, maxlen=headlines_max_len, padding='post')\n",
    "decoder_target_train = pad_sequences(decoder_target_train, maxlen=headlines_max_len, padding='post')\n",
    "decoder_input_test = pad_sequences(decoder_input_test, maxlen=headlines_max_len, padding='post')\n",
    "decoder_target_test = pad_sequences(decoder_target_test, maxlen=headlines_max_len, padding='post')"
   ]
  },
  {
   "cell_type": "markdown",
   "id": "27107064",
   "metadata": {},
   "source": [
    "### Step 3. 어텐션 메커니즘 사용하기 (추상적 요약)"
   ]
  },
  {
   "cell_type": "markdown",
   "id": "7fb4377c",
   "metadata": {},
   "source": [
    "- 모델 설계하기(인코더 인풋)"
   ]
  },
  {
   "cell_type": "code",
   "execution_count": 72,
   "id": "ff561d17",
   "metadata": {},
   "outputs": [
    {
     "name": "stdout",
     "output_type": "stream",
     "text": [
      "WARNING:tensorflow:Layer lstm_1 will not use cuDNN kernels since it doesn't meet the criteria. It will use a generic GPU kernel as fallback when running on GPU.\n",
      "WARNING:tensorflow:Layer lstm_2 will not use cuDNN kernels since it doesn't meet the criteria. It will use a generic GPU kernel as fallback when running on GPU.\n"
     ]
    }
   ],
   "source": [
    "from tensorflow.keras.layers import Input, LSTM, Embedding, Dense, Concatenate, TimeDistributed\n",
    "from tensorflow.keras.models import Model\n",
    "from tensorflow.keras.callbacks import EarlyStopping, ModelCheckpoint\n",
    "\n",
    "\n",
    "# 인코더 설계 시작\n",
    "embedding_dim = 128\n",
    "hidden_size = 256\n",
    "\n",
    "# 인코더\n",
    "encoder_inputs = Input(shape=(text_max_len,))\n",
    "\n",
    "# 인코더의 임베딩 층\n",
    "enc_emb = Embedding(src_vocab, embedding_dim)(encoder_inputs)\n",
    "\n",
    "# 인코더의 LSTM 1\n",
    "# encoder_lstm1 = LSTM(hidden_size, return_sequences=True, return_state=True ,dropout = 0.4, recurrent_dropout = 0.4)\n",
    "encoder_lstm1 = LSTM(hidden_size, return_sequences=True, return_state=True ,dropout = 0.4)\n",
    "encoder_output1, state_h1, state_c1 = encoder_lstm1(enc_emb)\n",
    "\n",
    "# 인코더의 LSTM 2\n",
    "encoder_lstm2 = LSTM(hidden_size, return_sequences=True, return_state=True, dropout=0.4, recurrent_dropout=0.4)\n",
    "encoder_output2, state_h2, state_c2 = encoder_lstm2(encoder_output1)\n",
    "\n",
    "# 인코더의 LSTM 3\n",
    "encoder_lstm3 = LSTM(hidden_size, return_state=True, return_sequences=True, dropout=0.4, recurrent_dropout=0.4)\n",
    "encoder_outputs, state_h, state_c= encoder_lstm3(encoder_output2)"
   ]
  },
  {
   "cell_type": "code",
   "execution_count": 73,
   "id": "8cc762ea",
   "metadata": {},
   "outputs": [],
   "source": [
    "# 디코더 설계\n",
    "decoder_inputs = Input(shape=(None,))\n",
    "\n",
    "# 디코더의 임베딩 층\n",
    "dec_emb_layer = Embedding(tar_vocab, embedding_dim)\n",
    "dec_emb = dec_emb_layer(decoder_inputs)\n",
    "\n",
    "# 디코더의 LSTM\n",
    "# decoder_lstm = LSTM(hidden_size, return_sequences=True, return_state=True, dropout=0.4, recurrent_dropout=0.2)\n",
    "decoder_lstm = LSTM(hidden_size, return_sequences=True, return_state=True, dropout=0.4)\n",
    "decoder_outputs, _, _ = decoder_lstm(dec_emb, initial_state=[state_h, state_c])"
   ]
  },
  {
   "cell_type": "code",
   "execution_count": 74,
   "id": "887677de",
   "metadata": {},
   "outputs": [
    {
     "name": "stdout",
     "output_type": "stream",
     "text": [
      "Model: \"model\"\n",
      "__________________________________________________________________________________________________\n",
      "Layer (type)                    Output Shape         Param #     Connected to                     \n",
      "==================================================================================================\n",
      "input_1 (InputLayer)            [(None, 45)]         0                                            \n",
      "__________________________________________________________________________________________________\n",
      "embedding (Embedding)           (None, 45, 128)      2349568     input_1[0][0]                    \n",
      "__________________________________________________________________________________________________\n",
      "lstm (LSTM)                     [(None, 45, 256), (N 394240      embedding[0][0]                  \n",
      "__________________________________________________________________________________________________\n",
      "input_2 (InputLayer)            [(None, None)]       0                                            \n",
      "__________________________________________________________________________________________________\n",
      "lstm_1 (LSTM)                   [(None, 45, 256), (N 525312      lstm[0][0]                       \n",
      "__________________________________________________________________________________________________\n",
      "embedding_1 (Embedding)         (None, None, 128)    1045632     input_2[0][0]                    \n",
      "__________________________________________________________________________________________________\n",
      "lstm_2 (LSTM)                   [(None, 45, 256), (N 525312      lstm_1[0][0]                     \n",
      "__________________________________________________________________________________________________\n",
      "lstm_3 (LSTM)                   [(None, None, 256),  394240      embedding_1[0][0]                \n",
      "                                                                 lstm_2[0][1]                     \n",
      "                                                                 lstm_2[0][2]                     \n",
      "__________________________________________________________________________________________________\n",
      "dense (Dense)                   (None, None, 8169)   2099433     lstm_3[0][0]                     \n",
      "==================================================================================================\n",
      "Total params: 7,333,737\n",
      "Trainable params: 7,333,737\n",
      "Non-trainable params: 0\n",
      "__________________________________________________________________________________________________\n"
     ]
    }
   ],
   "source": [
    "# 디코더의 출력층\n",
    "decoder_softmax_layer = Dense(tar_vocab, activation='softmax')\n",
    "decoder_softmax_outputs = decoder_softmax_layer(decoder_outputs) \n",
    "\n",
    "# 모델 정의\n",
    "model = Model([encoder_inputs, decoder_inputs], decoder_softmax_outputs)\n",
    "model.summary()"
   ]
  },
  {
   "cell_type": "code",
   "execution_count": 75,
   "id": "779170a7",
   "metadata": {},
   "outputs": [
    {
     "name": "stdout",
     "output_type": "stream",
     "text": [
      "Model: \"model_1\"\n",
      "__________________________________________________________________________________________________\n",
      "Layer (type)                    Output Shape         Param #     Connected to                     \n",
      "==================================================================================================\n",
      "input_1 (InputLayer)            [(None, 45)]         0                                            \n",
      "__________________________________________________________________________________________________\n",
      "embedding (Embedding)           (None, 45, 128)      2349568     input_1[0][0]                    \n",
      "__________________________________________________________________________________________________\n",
      "lstm (LSTM)                     [(None, 45, 256), (N 394240      embedding[0][0]                  \n",
      "__________________________________________________________________________________________________\n",
      "input_2 (InputLayer)            [(None, None)]       0                                            \n",
      "__________________________________________________________________________________________________\n",
      "lstm_1 (LSTM)                   [(None, 45, 256), (N 525312      lstm[0][0]                       \n",
      "__________________________________________________________________________________________________\n",
      "embedding_1 (Embedding)         (None, None, 128)    1045632     input_2[0][0]                    \n",
      "__________________________________________________________________________________________________\n",
      "lstm_2 (LSTM)                   [(None, 45, 256), (N 525312      lstm_1[0][0]                     \n",
      "__________________________________________________________________________________________________\n",
      "lstm_3 (LSTM)                   [(None, None, 256),  394240      embedding_1[0][0]                \n",
      "                                                                 lstm_2[0][1]                     \n",
      "                                                                 lstm_2[0][2]                     \n",
      "__________________________________________________________________________________________________\n",
      "attention_layer (AdditiveAttent (None, None, 256)    256         lstm_3[0][0]                     \n",
      "                                                                 lstm_2[0][0]                     \n",
      "__________________________________________________________________________________________________\n",
      "concat_layer (Concatenate)      (None, None, 512)    0           lstm_3[0][0]                     \n",
      "                                                                 attention_layer[0][0]            \n",
      "__________________________________________________________________________________________________\n",
      "dense_1 (Dense)                 (None, None, 8169)   4190697     concat_layer[0][0]               \n",
      "==================================================================================================\n",
      "Total params: 9,425,257\n",
      "Trainable params: 9,425,257\n",
      "Non-trainable params: 0\n",
      "__________________________________________________________________________________________________\n"
     ]
    }
   ],
   "source": [
    "from tensorflow.keras.layers import AdditiveAttention\n",
    "\n",
    "# 어텐션 층(어텐션 함수)\n",
    "attn_layer = AdditiveAttention(name='attention_layer')\n",
    "\n",
    "# 인코더와 디코더의 모든 time step의 hidden state를 어텐션 층에 전달하고 결과를 리턴\n",
    "attn_out = attn_layer([decoder_outputs, encoder_outputs])\n",
    "\n",
    "\n",
    "# 어텐션의 결과와 디코더의 hidden state들을 연결\n",
    "decoder_concat_input = Concatenate(axis=-1, name='concat_layer')([decoder_outputs, attn_out])\n",
    "\n",
    "# 디코더의 출력층\n",
    "decoder_softmax_layer = Dense(tar_vocab, activation='softmax')\n",
    "decoder_softmax_outputs = decoder_softmax_layer(decoder_concat_input)\n",
    "\n",
    "# 모델 정의\n",
    "model = Model([encoder_inputs, decoder_inputs], decoder_softmax_outputs)\n",
    "model.summary()"
   ]
  },
  {
   "cell_type": "code",
   "execution_count": 76,
   "id": "729679b0",
   "metadata": {},
   "outputs": [
    {
     "data": {
      "image/png": "[encoded data removed]",
      "text/plain": [
       "<IPython.core.display.Image object>"
      ]
     },
     "execution_count": 76,
     "metadata": {},
     "output_type": "execute_result"
    }
   ],
   "source": [
    "from tensorflow.keras.utils import plot_model\n",
    "plot_model(model, to_file='model_plot.png', show_shapes=True, show_layer_names=True)"
   ]
  },
  {
   "cell_type": "code",
   "execution_count": 77,
   "id": "15758d6a",
   "metadata": {},
   "outputs": [
    {
     "name": "stdout",
     "output_type": "stream",
     "text": [
      "Epoch 1/50\n",
      "306/306 [==============================] - 133s 409ms/step - loss: 5.0938 - val_loss: 4.7433\n",
      "Epoch 2/50\n",
      "306/306 [==============================] - 125s 409ms/step - loss: 4.5213 - val_loss: 4.4001\n",
      "Epoch 3/50\n",
      "306/306 [==============================] - 125s 407ms/step - loss: 4.2148 - val_loss: 4.1461\n",
      "Epoch 4/50\n",
      "306/306 [==============================] - 123s 403ms/step - loss: 3.9793 - val_loss: 3.9643\n",
      "Epoch 5/50\n",
      "306/306 [==============================] - 123s 403ms/step - loss: 3.7927 - val_loss: 3.8589\n",
      "Epoch 6/50\n",
      "306/306 [==============================] - 123s 402ms/step - loss: 3.6353 - val_loss: 3.7233\n",
      "Epoch 7/50\n",
      "306/306 [==============================] - 122s 400ms/step - loss: 3.5000 - val_loss: 3.6364\n",
      "Epoch 8/50\n",
      "306/306 [==============================] - 123s 404ms/step - loss: 3.3842 - val_loss: 3.5704\n",
      "Epoch 9/50\n",
      "306/306 [==============================] - 123s 401ms/step - loss: 3.2840 - val_loss: 3.5091\n",
      "Epoch 10/50\n",
      "306/306 [==============================] - 123s 402ms/step - loss: 3.1950 - val_loss: 3.4650\n",
      "Epoch 11/50\n",
      "306/306 [==============================] - 122s 400ms/step - loss: 3.1149 - val_loss: 3.4448\n",
      "Epoch 12/50\n",
      "306/306 [==============================] - 123s 401ms/step - loss: 3.0403 - val_loss: 3.4079\n",
      "Epoch 13/50\n",
      "306/306 [==============================] - 123s 401ms/step - loss: 2.9737 - val_loss: 3.3599\n",
      "Epoch 14/50\n",
      "306/306 [==============================] - 123s 401ms/step - loss: 2.9131 - val_loss: 3.3483\n",
      "Epoch 15/50\n",
      "306/306 [==============================] - 123s 401ms/step - loss: 2.8582 - val_loss: 3.3327\n",
      "Epoch 16/50\n",
      "306/306 [==============================] - 123s 402ms/step - loss: 2.8056 - val_loss: 3.3193\n",
      "Epoch 17/50\n",
      "306/306 [==============================] - 123s 403ms/step - loss: 2.7583 - val_loss: 3.3048\n",
      "Epoch 18/50\n",
      "306/306 [==============================] - 124s 405ms/step - loss: 2.7139 - val_loss: 3.2992\n",
      "Epoch 19/50\n",
      "306/306 [==============================] - 123s 403ms/step - loss: 2.6699 - val_loss: 3.2914\n",
      "Epoch 20/50\n",
      "306/306 [==============================] - 123s 402ms/step - loss: 2.6295 - val_loss: 3.2885\n",
      "Epoch 21/50\n",
      "306/306 [==============================] - 123s 402ms/step - loss: 2.5930 - val_loss: 3.2654\n",
      "Epoch 22/50\n",
      "306/306 [==============================] - 123s 402ms/step - loss: 2.5572 - val_loss: 3.2821\n",
      "Epoch 23/50\n",
      "306/306 [==============================] - 124s 404ms/step - loss: 2.5259 - val_loss: 3.2642\n",
      "Epoch 24/50\n",
      "306/306 [==============================] - 123s 401ms/step - loss: 2.4919 - val_loss: 3.2617\n",
      "Epoch 25/50\n",
      "306/306 [==============================] - 123s 402ms/step - loss: 2.4587 - val_loss: 3.2578\n",
      "Epoch 26/50\n",
      "306/306 [==============================] - 123s 402ms/step - loss: 2.4320 - val_loss: 3.2663\n",
      "Epoch 27/50\n",
      "306/306 [==============================] - 123s 402ms/step - loss: 2.4052 - val_loss: 3.2568\n",
      "Epoch 28/50\n",
      "306/306 [==============================] - 123s 403ms/step - loss: 2.3786 - val_loss: 3.2610\n",
      "Epoch 29/50\n",
      "306/306 [==============================] - 123s 403ms/step - loss: 2.3494 - val_loss: 3.2585\n",
      "Epoch 00029: early stopping\n"
     ]
    }
   ],
   "source": [
    "model.compile(optimizer='rmsprop', loss='sparse_categorical_crossentropy')\n",
    "es = EarlyStopping(monitor='val_loss', patience=2, verbose=1)\n",
    "history = model.fit(x=[encoder_input_train, decoder_input_train], y=decoder_target_train, \\\n",
    "          validation_data=([encoder_input_test, decoder_input_test], decoder_target_test), \\\n",
    "          batch_size=256, callbacks=[es], epochs=50)"
   ]
  },
  {
   "cell_type": "markdown",
   "id": "aadd1459",
   "metadata": {},
   "source": [
    "- 에폭스 29회에서 early stopping으로 조기 종료된 모습"
   ]
  },
  {
   "cell_type": "code",
   "execution_count": 79,
   "id": "b1a45b78",
   "metadata": {},
   "outputs": [
    {
     "data": {
      "image/png": "[encoded data removed]",
      "text/plain": [
       "<Figure size 432x288 with 1 Axes>"
      ]
     },
     "metadata": {
      "needs_background": "light"
     },
     "output_type": "display_data"
    }
   ],
   "source": [
    "plt.plot(history.history['loss'], label='train')\n",
    "plt.plot(history.history['val_loss'], label='test')\n",
    "plt.legend()\n",
    "plt.show()"
   ]
  },
  {
   "cell_type": "code",
   "execution_count": 80,
   "id": "6b790f59",
   "metadata": {},
   "outputs": [],
   "source": [
    "src_index_to_word = src_tokenizer.index_word # 원문 단어 집합에서 정수 -> 단어를 얻음\n",
    "tar_word_to_index = tar_tokenizer.word_index # 요약 단어 집합에서 단어 -> 정수를 얻음\n",
    "tar_index_to_word = tar_tokenizer.index_word # 요약 단어 집합에서 정수 -> 단어를 얻음"
   ]
  },
  {
   "cell_type": "code",
   "execution_count": 81,
   "id": "a6bc4020",
   "metadata": {},
   "outputs": [],
   "source": [
    "# 인코더 설계\n",
    "encoder_model = Model(inputs=encoder_inputs, outputs=[encoder_outputs, state_h, state_c])\n",
    "\n",
    "# 이전 시점의 상태들을 저장하는 텐서\n",
    "decoder_state_input_h = Input(shape=(hidden_size,))\n",
    "decoder_state_input_c = Input(shape=(hidden_size,))\n",
    "\n",
    "dec_emb2 = dec_emb_layer(decoder_inputs)\n",
    "\n",
    "# 문장의 다음 단어를 예측하기 위해서 초기 상태(initial_state)를 이전 시점의 상태로 사용. 이는 뒤의 함수 decode_sequence()에 구현\n",
    "# 훈련 과정에서와 달리 LSTM의 리턴하는 은닉 상태와 셀 상태인 state_h와 state_c를 버리지 않음.\n",
    "decoder_outputs2, state_h2, state_c2 = decoder_lstm(dec_emb2, initial_state=[decoder_state_input_h, decoder_state_input_c])"
   ]
  },
  {
   "cell_type": "code",
   "execution_count": 82,
   "id": "62ff8367",
   "metadata": {},
   "outputs": [
    {
     "data": {
      "image/png": "[encoded data removed]",
      "text/plain": [
       "<IPython.core.display.Image object>"
      ]
     },
     "execution_count": 82,
     "metadata": {},
     "output_type": "execute_result"
    }
   ],
   "source": [
    "plot_model(encoder_model, to_file='encoder_model_plot.png', show_shapes=True, show_layer_names=True)"
   ]
  },
  {
   "cell_type": "code",
   "execution_count": 83,
   "id": "09bd8528",
   "metadata": {},
   "outputs": [],
   "source": [
    "# 어텐션 함수\n",
    "decoder_hidden_state_input = Input(shape=(text_max_len, hidden_size))\n",
    "attn_out_inf = attn_layer([decoder_outputs2, decoder_hidden_state_input])\n",
    "decoder_inf_concat = Concatenate(axis=-1, name='concat')([decoder_outputs2, attn_out_inf])\n",
    "\n",
    "# 디코더의 출력층\n",
    "decoder_outputs2 = decoder_softmax_layer(decoder_inf_concat) \n",
    "\n",
    "# 최종 디코더 모델\n",
    "decoder_model = Model(\n",
    "    [decoder_inputs] + [decoder_hidden_state_input,decoder_state_input_h, decoder_state_input_c],\n",
    "    [decoder_outputs2] + [state_h2, state_c2])"
   ]
  },
  {
   "cell_type": "code",
   "execution_count": 84,
   "id": "d67a1e7f",
   "metadata": {},
   "outputs": [
    {
     "data": {
      "image/png": "[encoded data removed]",
      "text/plain": [
       "<IPython.core.display.Image object>"
      ]
     },
     "execution_count": 84,
     "metadata": {},
     "output_type": "execute_result"
    }
   ],
   "source": [
    "plot_model(decoder_model, to_file='decoder_model_plot.png', show_shapes=True, show_layer_names=True)"
   ]
  },
  {
   "cell_type": "code",
   "execution_count": 85,
   "id": "e4359660",
   "metadata": {},
   "outputs": [],
   "source": [
    "def decode_sequence(input_seq):\n",
    "    # 입력으로부터 인코더의 상태를 얻음\n",
    "    e_out, e_h, e_c = encoder_model.predict(input_seq)\n",
    "\n",
    "     # <SOS>에 해당하는 토큰 생성\n",
    "    target_seq = np.zeros((1,1))\n",
    "    target_seq[0, 0] = tar_word_to_index['sostoken']\n",
    "\n",
    "    stop_condition = False\n",
    "    decoded_sentence = ''\n",
    "    while not stop_condition: # stop_condition이 True가 될 때까지 루프 반복\n",
    "\n",
    "        output_tokens, h, c = decoder_model.predict([target_seq] + [e_out, e_h, e_c])\n",
    "        sampled_token_index = np.argmax(output_tokens[0, -1, :])\n",
    "        sampled_token = tar_index_to_word[sampled_token_index]\n",
    "\n",
    "        if (sampled_token!='eostoken'):\n",
    "            decoded_sentence += ' '+sampled_token\n",
    "\n",
    "        #  <eos>에 도달하거나 최대 길이를 넘으면 중단.\n",
    "        if (sampled_token == 'eostoken'  or len(decoded_sentence.split()) >= (headlines_max_len-1)):\n",
    "            stop_condition = True\n",
    "\n",
    "        # 길이가 1인 타겟 시퀀스를 업데이트\n",
    "        target_seq = np.zeros((1,1))\n",
    "        target_seq[0, 0] = sampled_token_index\n",
    "\n",
    "        # 상태를 업데이트 합니다.\n",
    "        e_h, e_c = h, c\n",
    "\n",
    "    return decoded_sentence"
   ]
  },
  {
   "cell_type": "code",
   "execution_count": 86,
   "id": "41226251",
   "metadata": {},
   "outputs": [],
   "source": [
    "# 원문의 정수 시퀀스를 텍스트 시퀀스로 변환\n",
    "def seq2text(input_seq):\n",
    "    temp=''\n",
    "    for i in input_seq:\n",
    "        if (i!=0):\n",
    "            temp = temp + src_index_to_word[i]+' '\n",
    "    return temp\n",
    "\n",
    "# 요약문의 정수 시퀀스를 텍스트 시퀀스로 변환\n",
    "def seq2summary(input_seq):\n",
    "    temp=''\n",
    "    for i in input_seq:\n",
    "        if (i!=0):\n",
    "            temp = temp + tar_index_to_word[i]+' '\n",
    "    return temp[9:]"
   ]
  },
  {
   "cell_type": "markdown",
   "id": "cea4a008",
   "metadata": {},
   "source": [
    "- Bleu, Rouge 스코어 구하기"
   ]
  },
  {
   "cell_type": "code",
   "execution_count": 87,
   "id": "aaf0dbff",
   "metadata": {},
   "outputs": [
    {
     "name": "stdout",
     "output_type": "stream",
     "text": [
      "Requirement already satisfied: rouge-score in /opt/conda/lib/python3.9/site-packages (0.1.2)\n",
      "Requirement already satisfied: six>=1.14.0 in /opt/conda/lib/python3.9/site-packages (from rouge-score) (1.16.0)\n",
      "Requirement already satisfied: nltk in /opt/conda/lib/python3.9/site-packages (from rouge-score) (3.6.5)\n",
      "Requirement already satisfied: numpy in /opt/conda/lib/python3.9/site-packages (from rouge-score) (1.21.4)\n",
      "Requirement already satisfied: absl-py in /opt/conda/lib/python3.9/site-packages (from rouge-score) (0.12.0)\n",
      "Requirement already satisfied: click in /opt/conda/lib/python3.9/site-packages (from nltk->rouge-score) (8.0.3)\n",
      "Requirement already satisfied: joblib in /opt/conda/lib/python3.9/site-packages (from nltk->rouge-score) (1.1.0)\n",
      "Requirement already satisfied: regex>=2021.8.3 in /opt/conda/lib/python3.9/site-packages (from nltk->rouge-score) (2021.11.10)\n",
      "Requirement already satisfied: tqdm in /opt/conda/lib/python3.9/site-packages (from nltk->rouge-score) (4.62.3)\n",
      "\u001b[33mWARNING: Running pip as the 'root' user can result in broken permissions and conflicting behaviour with the system package manager. It is recommended to use a virtual environment instead: https://pip.pypa.io/warnings/venv\u001b[0m\n",
      "Note: you may need to restart the kernel to use updated packages.\n"
     ]
    }
   ],
   "source": [
    "pip install rouge-score"
   ]
  },
  {
   "cell_type": "code",
   "execution_count": 88,
   "id": "cc056332",
   "metadata": {},
   "outputs": [],
   "source": [
    "from nltk.translate.bleu_score import corpus_bleu\n",
    "from nltk.translate.bleu_score import SmoothingFunction\n",
    "from nltk.translate.bleu_score import sentence_bleu\n",
    "from rouge_score import rouge_scorer\n",
    "\n",
    "def calculate_bleu_score(reference, candidate):\n",
    "    smooth = SmoothingFunction().method1  # BLEU smoothing function\n",
    "    return corpus_bleu([[reference]], [candidate], smoothing_function=smooth)\n",
    "\n",
    "def calculate_rouge_score(reference, candidate):\n",
    "    scorer = rouge_scorer.RougeScorer(['rouge1', 'rouge2', 'rougeL'], use_stemmer=True)\n",
    "    scores = scorer.score(reference, candidate)\n",
    "    return scores"
   ]
  },
  {
   "cell_type": "code",
   "execution_count": 92,
   "id": "3e085c88",
   "metadata": {},
   "outputs": [
    {
     "name": "stdout",
     "output_type": "stream",
     "text": [
      "원문 : confederation india traders said walmart flipkart deal benefit venture investors country also said clear attempt walmart dominate retail trade india commerce uneven level playing field retail traders cait added \n",
      "실제 요약 : flipkart walmart deal will not benefit india traders body \n",
      "예측 요약 :  flipkart deal deal will not deal with walmart deal walmart\n",
      "BLEU Score: 0.5627\n",
      "ROUGE-1 Score: 0.5263\n",
      "ROUGE-2 Score: 0.3529\n",
      "ROUGE-L Score: 0.4211\n",
      "\n",
      "\n",
      "원문 : india saw hottest winter recorded history temperatures reaching according centre science environment india warmest year ever hottest years since last years us exiting paris agreement controlling temperature tougher task said \n",
      "실제 요약 : india witnessed its winter ever in \n",
      "예측 요약 :  india to host th ever in yrs of april\n",
      "BLEU Score: 0.3766\n",
      "ROUGE-1 Score: 0.4000\n",
      "ROUGE-2 Score: 0.1538\n",
      "ROUGE-L Score: 0.4000\n",
      "\n",
      "\n",
      "원문 : karnataka state tourism department displayed draft logo brand bengaluru love bengaluru tank invited responses visitors sunday logo chosen among entries contest organised department earlier brand bengaluru would make tourists aware heritage nearly year old city generate employment officials said \n",
      "실제 요약 : karnataka draft logo of brand bengaluru \n",
      "예측 요약 :  karnataka launches free wifi free for luru\n",
      "BLEU Score: 0.3149\n",
      "ROUGE-1 Score: 0.1538\n",
      "ROUGE-2 Score: 0.0000\n",
      "ROUGE-L Score: 0.1538\n",
      "\n",
      "\n",
      "원문 : pune rural police arrested sixteen people restaurant bidders betting police acting tip also recovered bottles foreign liquor lakh premises accused allegedly tied blades legs made fight \n",
      "실제 요약 : pune rural police arrest for betting on \n",
      "예측 요약 :  held for cash with cash money to sell cash to goa\n",
      "BLEU Score: 0.1197\n",
      "ROUGE-1 Score: 0.1111\n",
      "ROUGE-2 Score: 0.0000\n",
      "ROUGE-L Score: 0.1111\n",
      "\n",
      "\n",
      "원문 : terrorist group al qaeda called attacks india myanmar recently released propaganda magazine according reports recently reported terror group engaging operatives india target religious places spread communal tensions al qaeda south asia unit said active india \n",
      "실제 요약 : al qaeda calls for terror attacks in india reports \n",
      "예측 요약 :  al qaeda al qaeda al qaeda al qaeda al qaeda al qaeda\n",
      "BLEU Score: 0.1975\n",
      "ROUGE-1 Score: 0.1905\n",
      "ROUGE-2 Score: 0.1053\n",
      "ROUGE-L Score: 0.1905\n",
      "\n",
      "\n",
      "원문 : actress vidya balan said opting unconventional roles films related survival actor added fitting conventional roles getting offered different categories films great opportunity vidya played role brothel owner last release begum jaan \n",
      "실제 요약 : it was survival vidya on her roles \n",
      "예측 요약 :  was not to get films to make films vidya balan\n",
      "BLEU Score: 0.2528\n",
      "ROUGE-1 Score: 0.2353\n",
      "ROUGE-2 Score: 0.0000\n",
      "ROUGE-L Score: 0.2353\n",
      "\n",
      "\n",
      "원문 : apparent attack us president donald trump chinese president xi jinping said politics force unilateral approaches protectionism head added deep complex changes underway international situation supporting xi remarks russian president vladimir putin said basic principles trade unfortunately \n",
      "실제 요약 : politics of force their head xi \n",
      "예측 요약 :  trump has not run out of any trump ex us president trump\n",
      "BLEU Score: 0.0742\n",
      "ROUGE-1 Score: 0.1111\n",
      "ROUGE-2 Score: 0.0000\n",
      "ROUGE-L Score: 0.1111\n",
      "\n",
      "\n",
      "원문 : talking artificial intelligence ex google ceo eric schmidt recent event said makes would put charge command control adding ai technology serious errors said used life critical decisions technology reliable enough added \n",
      "실제 요약 : would not put ai in charge of command control ex google ceo \n",
      "예측 요약 :  we are not to end our tech says google ceo\n",
      "BLEU Score: 0.3012\n",
      "ROUGE-1 Score: 0.2727\n",
      "ROUGE-2 Score: 0.1000\n",
      "ROUGE-L Score: 0.2727\n",
      "\n",
      "\n",
      "원문 : indian football team currently participating four team intercontinental cup held mumbai football arena mumbai india face kenya june new zealand june india defeated chinese taipei first group match tournament june witnessed hat trick captain sunil chhetri \n",
      "실제 요약 : when are indian football team upcoming matches \n",
      "예측 요약 :  india football team celebrates india th tour\n",
      "BLEU Score: 0.4848\n",
      "ROUGE-1 Score: 0.2857\n",
      "ROUGE-2 Score: 0.1667\n",
      "ROUGE-L Score: 0.2857\n",
      "\n",
      "\n",
      "원문 : bsp supremo mayawati tuesday said bsp beg seats alliance rather continue fight polls bsp put forth condition given respectable number seats enter electoral alliance added speaking death anniversary bsp founder ram \n",
      "실제 요약 : bsp will not beg for seats in any alliance mayawati \n",
      "예측 요약 :  bsp alliance with bsp to alliance with bsp alliance mayawati\n",
      "BLEU Score: 0.4128\n",
      "ROUGE-1 Score: 0.3000\n",
      "ROUGE-2 Score: 0.1111\n",
      "ROUGE-L Score: 0.3000\n",
      "\n",
      "\n",
      "원문 : maharashtra raigad friday started demolishing pnb scam accused nirav modi mansion alibaug reportedly worth crore raigad collector vijay said bungalow built illegally environmental norms enforcement directorate stripped square foot property valuables handed demolition \n",
      "실제 요약 : nirav modi crore sea facing bungalow being demolished \n",
      "예측 요약 :  nirav modi issued against cr in pnb fraud case\n",
      "BLEU Score: 0.3086\n",
      "ROUGE-1 Score: 0.2353\n",
      "ROUGE-2 Score: 0.1333\n",
      "ROUGE-L Score: 0.2353\n",
      "\n",
      "\n",
      "원문 : actor farhan akhtar offered role filmmaker rakeysh omprakash mehra film rang de rejected speaking film farhan earlier said interview point want act sometimes regret decision today marks farhan akhtar th birthday \n",
      "실제 요약 : farhan akhtar was offered role in de \n",
      "예측 요약 :  farhan akhtar to play role in film on film\n",
      "BLEU Score: 0.5136\n",
      "ROUGE-1 Score: 0.5000\n",
      "ROUGE-2 Score: 0.2857\n",
      "ROUGE-L Score: 0.5000\n",
      "\n",
      "\n",
      "원문 : indian army planning purchase milan anti tank guided missiles france deal worth crore reports said decision procure milan arrangement army gets homegrown third generation arsenal reports added milan range two kilometres \n",
      "실제 요약 : army to buy anti tank missiles from france reports \n",
      "예측 요약 :  army to build cr to buy missiles from india\n",
      "BLEU Score: 0.5291\n",
      "ROUGE-1 Score: 0.5556\n",
      "ROUGE-2 Score: 0.3750\n",
      "ROUGE-L Score: 0.5556\n",
      "\n",
      "\n",
      "원문 : railways considering proposal allow private sector operate execute railway lines senior officials said thursday proposal reportedly includes private players funding entire project railways charge licence fee private players improve efficiency bring bigger investments railway minister piyush goyal said \n",
      "실제 요약 : railway may allow private sector to own operate projects \n",
      "예측 요약 :  railways to get new properties of properties\n",
      "BLEU Score: 0.2973\n",
      "ROUGE-1 Score: 0.2500\n",
      "ROUGE-2 Score: 0.0000\n",
      "ROUGE-L Score: 0.2500\n",
      "\n",
      "\n",
      "원문 : pakistan electronic media regulatory authority directed private satellite tv channels stop airing content related general elections held today tv channels airing campaigns ended july directed channels air opinion polls surveys might influence voters electoral process \n",
      "실제 요약 : pak tv channels told to stop airing election related content \n",
      "예측 요약 :  pak bans ads from using pak ads to stop misleading\n",
      "BLEU Score: 0.2701\n",
      "ROUGE-1 Score: 0.3000\n",
      "ROUGE-2 Score: 0.1111\n",
      "ROUGE-L Score: 0.3000\n",
      "\n",
      "\n",
      "원문 : telecom operator vodafone letter department telecommunications said reliance jio effective zero price feature phone erode revenues existing operators vodafone also requested reduction interest rate applied deferred spectrum payments reduce burden operators notably booking jio low cost phone start august th \n",
      "실제 요약 : jio phone will of telcos vodafone \n",
      "예측 요약 :  airtel to jio airtel to jio jio reports\n",
      "BLEU Score: 0.1231\n",
      "ROUGE-1 Score: 0.1429\n",
      "ROUGE-2 Score: 0.0000\n",
      "ROUGE-L Score: 0.1429\n",
      "\n",
      "\n",
      "원문 : former shiv sena corporator ashok sawant allegedly stabbed death outside house mumbai late sunday night two unidentified assailants police said incident took place sawant returning home meeting friend assailants reportedly fled scene killing \n",
      "실제 요약 : former shiv sena corporator ashok sawant stabbed to death \n",
      "예측 요약 :  shiv sena leader dies after being hit by mob\n",
      "BLEU Score: 0.2635\n",
      "ROUGE-1 Score: 0.2222\n",
      "ROUGE-2 Score: 0.1250\n",
      "ROUGE-L Score: 0.2222\n",
      "\n",
      "\n",
      "원문 : reliance industries chairman mukesh ambani ranked first hurun india rich list sixth consecutive year ambani net worth crore gdp country birth yemen last one year shares reliance industries gained every seven days rising weeks \n",
      "실제 요약 : ambani wealth more than gdp of his birth country yemen \n",
      "예측 요약 :  mukesh ambani tops forbes list of th hurun rich list list\n",
      "BLEU Score: 0.2483\n",
      "ROUGE-1 Score: 0.1905\n",
      "ROUGE-2 Score: 0.0000\n",
      "ROUGE-L Score: 0.1905\n",
      "\n",
      "\n",
      "원문 : following pnb fraud rbi asked banks integrate swift messaging system core banking solution april swift network used financial institutions worldwide transmit information instructions using system codes software supports daily transactions accounts within bank internally \n",
      "실제 요약 : banks told to link swift with after pnb fraud \n"
     ]
    },
    {
     "name": "stdout",
     "output_type": "stream",
     "text": [
      "예측 요약 :  rbi to make account of old notes to rbi\n",
      "BLEU Score: 0.2039\n",
      "ROUGE-1 Score: 0.1111\n",
      "ROUGE-2 Score: 0.0000\n",
      "ROUGE-L Score: 0.1111\n",
      "\n",
      "\n",
      "원문 : delhi witnessing polling civic body today bjp slammed chief minister arvind kejriwal electronic voting machines tampering saying fault evms kejriwal leadership bjp leader sambit patra said kejriwal language shows frustrated went goa punjab become cm nowhere \n",
      "실제 요약 : fault not with evms but with kejriwal bjp \n",
      "예측 요약 :  evms will be sisodia on evms kejriwal\n",
      "BLEU Score: 0.3756\n",
      "ROUGE-1 Score: 0.2667\n",
      "ROUGE-2 Score: 0.0000\n",
      "ROUGE-L Score: 0.2667\n",
      "\n",
      "\n",
      "원문 : ipl official website shared video kkr captain dinesh karthik reading mean tweets tweets included dinesh karthik captain even near gautam gambhir captain kkr sorry true dinesh karthik vinay kumar standing together today would think twice slap first \n",
      "실제 요약 : change name to bose dinesh karthik reads mean tweets \n",
      "예측 요약 :  karthik calls karthik karthik to karthik\n",
      "BLEU Score: 0.2259\n",
      "ROUGE-1 Score: 0.2667\n",
      "ROUGE-2 Score: 0.0000\n",
      "ROUGE-L Score: 0.2667\n",
      "\n",
      "\n",
      "원문 : bill shine co president fox news channel resigned leave company helping transition next weeks cable channel said monday shine faced criticism handling sexual harassment claims former ceo roger notably shine fox news since inception years ago \n",
      "실제 요약 : fox news co prez resigns on in handling harassment case \n",
      "예측 요약 :  netflix quits netflix amid yo yo deal row\n",
      "BLEU Score: 0.0379\n",
      "ROUGE-1 Score: 0.0000\n",
      "ROUGE-2 Score: 0.0000\n",
      "ROUGE-L Score: 0.0000\n",
      "\n",
      "\n",
      "원문 : three special police officers killed militants shopian district today resignation videos six policemen emerged however government alleged false propaganda mischievous elements officials saying men camera anymore hizbul mujahideen terrorists threatened policemen upload resignations face consequences \n",
      "실제 요약 : after killed police resign on video govt says false \n",
      "예측 요약 :  militants martyred in encounter in jammu and kashmir\n",
      "BLEU Score: 0.1140\n",
      "ROUGE-1 Score: 0.0000\n",
      "ROUGE-2 Score: 0.0000\n",
      "ROUGE-L Score: 0.0000\n",
      "\n",
      "\n",
      "원문 : manchester united made eight wins eight matches beating arsenal fa cup fourth round friday following win saw goals former arsenal player alexis sanchez anthony martial united results remaining fa cup matches find face fifth round \n",
      "실제 요약 : united beat arsenal in fa cup th round match \n",
      "예측 요약 :  man city beat arsenal to win their title in\n",
      "BLEU Score: 0.4415\n",
      "ROUGE-1 Score: 0.3333\n",
      "ROUGE-2 Score: 0.1250\n",
      "ROUGE-L Score: 0.3333\n",
      "\n",
      "\n",
      "원문 : former vice president hamid ansari said pm narendra modi remarks farewell considered departure accepted practice two time vice president added pm modi hinted certain ansari approach visited muslim lands tenure diplomat \n",
      "실제 요약 : pm modi remarks at farewell against practice ex vp \n",
      "예측 요약 :  pm modi prez kovind to be called pm modi\n",
      "BLEU Score: 0.2180\n",
      "ROUGE-1 Score: 0.2222\n",
      "ROUGE-2 Score: 0.1250\n",
      "ROUGE-L Score: 0.2222\n",
      "\n",
      "\n",
      "원문 : new york state supreme court judge crore email scam incident took place judge selling property purchasing new one scammers sent email judge posing attorney asking send money bank account \n",
      "실제 요약 : new york judge duped of crore through email scam \n",
      "예측 요약 :  scorer ordered to auction scorer ticket\n",
      "BLEU Score: 0.0622\n",
      "ROUGE-1 Score: 0.0000\n",
      "ROUGE-2 Score: 0.0000\n",
      "ROUGE-L Score: 0.0000\n",
      "\n",
      "\n",
      "원문 : tesla announced hired stuart software engineer snapchat parent company snap vp engineering previously also worked microsoft facebook working tesla autopilot software company said snap also confirmed move said long dream pursue passion robotics \n",
      "실제 요약 : tesla hires snap exec as engineering vp to work on autopilot \n",
      "예측 요약 :  tesla hires former employee rao as its head of the company\n",
      "BLEU Score: 0.3139\n",
      "ROUGE-1 Score: 0.2727\n",
      "ROUGE-2 Score: 0.1000\n",
      "ROUGE-L Score: 0.2727\n",
      "\n",
      "\n",
      "원문 : external affairs minister sushma swaraj announced auspicious occasion diwali india grant medical visa cases pending response several requests pakistani nationals earlier wednesday directed indian high commission islamabad issue visa pakistani child medical treatment india \n",
      "실제 요약 : india will grant medical visa in all cases swaraj \n",
      "예측 요약 :  sushma swaraj offers visa to sushma swaraj\n",
      "BLEU Score: 0.2773\n",
      "ROUGE-1 Score: 0.2500\n",
      "ROUGE-2 Score: 0.0000\n",
      "ROUGE-L Score: 0.2500\n",
      "\n",
      "\n",
      "원문 : karnataka minister ahmed khan left tip chef mohammed lunch seafood restaurant mangaluru minister also made chef sit next fed plate chef later revealed minister told never eaten course fish \n",
      "실제 요약 : taka minister chef at hotel tips him \n",
      "예측 요약 :  minister throws dog food as he refuses to wear\n",
      "BLEU Score: 0.2752\n",
      "ROUGE-1 Score: 0.1250\n",
      "ROUGE-2 Score: 0.0000\n",
      "ROUGE-L Score: 0.1250\n",
      "\n",
      "\n",
      "원문 : prints pet dog helped us family find year old son went missing several hours earlier week toddler discovered without suffered scratches bug bites owe dog son alone knows could happened father said \n",
      "실제 요약 : prints of pet dog help trace missing us toddler \n",
      "예측 요약 :  dog saves from dog inside us hospital\n",
      "BLEU Score: 0.1901\n",
      "ROUGE-1 Score: 0.2500\n",
      "ROUGE-2 Score: 0.0000\n",
      "ROUGE-L Score: 0.2500\n",
      "\n",
      "\n"
     ]
    }
   ],
   "source": [
    "for i in range(0, 30):\n",
    "    print(\"원문 :\", seq2text(encoder_input_test[i]))\n",
    "    print(\"실제 요약 :\", seq2summary(decoder_input_test[i]))\n",
    "    print(\"예측 요약 :\", decode_sequence(encoder_input_test[i].reshape(1, text_max_len)))\n",
    "    # BLEU 계산\n",
    "    bleu_score = calculate_bleu_score(seq2summary(decoder_input_test[i]), decode_sequence(encoder_input_test[i].reshape(1, text_max_len)))\n",
    "    print(f\"BLEU Score: {bleu_score:.4f}\")\n",
    "    # ROUGE 점수 계산\n",
    "    rouge_score = calculate_rouge_score(seq2summary(decoder_input_test[i]), decode_sequence(encoder_input_test[i].reshape(1, text_max_len)))\n",
    "    print(f\"ROUGE-1 Score: {rouge_score['rouge1'].fmeasure:.4f}\")\n",
    "    print(f\"ROUGE-2 Score: {rouge_score['rouge2'].fmeasure:.4f}\")\n",
    "    print(f\"ROUGE-L Score: {rouge_score['rougeL'].fmeasure:.4f}\")\n",
    "    \n",
    "    print(\"\\n\")"
   ]
  },
  {
   "cell_type": "markdown",
   "id": "9e4712f5",
   "metadata": {},
   "source": [
    "### Step 5. Summa을 이용해서 추출적 요약해보기"
   ]
  },
  {
   "cell_type": "markdown",
   "id": "c48a3be7",
   "metadata": {},
   "source": [
    "- 패키지 Summa"
   ]
  },
  {
   "cell_type": "code",
   "execution_count": 93,
   "id": "fdf43b03",
   "metadata": {},
   "outputs": [],
   "source": [
    "import requests\n",
    "from summa.summarizer import summarize"
   ]
  },
  {
   "cell_type": "code",
   "execution_count": 94,
   "id": "176a6af0",
   "metadata": {},
   "outputs": [
    {
     "data": {
      "text/plain": [
       "''"
      ]
     },
     "execution_count": 94,
     "metadata": {},
     "output_type": "execute_result"
    }
   ],
   "source": [
    "example_text = \"In the heart of the bustling city, where skyscrapers touch the sky and neon lights paint the streets in vibrant hues, a sense of constant motion permeates the air. People, with dreams as diverse as the colors around them, weave through the urban tapestry, each step telling a unique story. Amidst the rhythmic symphony of car horns and distant chatter, the city becomes a canvas where ambitions flourish and destinies entwine, creating a pulsating energy that defines its character.\"\n",
    "summarize(example_text, words=10)"
   ]
  },
  {
   "cell_type": "markdown",
   "id": "604e685a",
   "metadata": {},
   "source": [
    "- words 수가 문장에 따라 작으면 일일히 정해줘야만, 모든 문장에서 대해서 출력됨(위 예시처럼 words수가 작을 때 출력되지 않음)"
   ]
  },
  {
   "cell_type": "code",
   "execution_count": 95,
   "id": "37079117",
   "metadata": {},
   "outputs": [],
   "source": [
    "def recall_summarize(summarize, sentence, words):\n",
    "    return_sentence = summarize(sentence, words=words)\n",
    "    if len(return_sentence) == 0:\n",
    "        words += 1\n",
    "        return recall_summarize(summarize, sentence, words)\n",
    "    else:\n",
    "        return return_sentence"
   ]
  },
  {
   "cell_type": "markdown",
   "id": "a8765584",
   "metadata": {},
   "source": [
    "- 이를 해결하고자 재귀호출함수 정의 후 사용(미출력 시, words 숫자 증가 후 다시 함수 리턴)"
   ]
  },
  {
   "cell_type": "code",
   "execution_count": 96,
   "id": "52f651aa",
   "metadata": {},
   "outputs": [],
   "source": [
    "data3 = pd.read_csv('news_summary_more.csv', encoding='iso-8859-1')"
   ]
  },
  {
   "cell_type": "code",
   "execution_count": 97,
   "id": "4643925d",
   "metadata": {},
   "outputs": [
    {
     "name": "stdout",
     "output_type": "stream",
     "text": [
      "원문 : Saurav Kant, an alumnus of upGrad and IIIT-B's PG Program in Machine learning and Artificial Intelligence, was a Sr Systems Engineer at Infosys with almost 5 years of work experience. The program and upGrad's 360-degree career support helped him transition to a Data Scientist at Tech Mahindra with 90% salary hike. upGrad's Online Power Learning has powered 3 lakh+ careers.\n",
      "실제 요약 : upGrad learner switches to career in ML & Al with 90% salary hike\n",
      "추출적 요약 : upGrad's Online Power Learning has powered 3 lakh+ careers.\n",
      "BLEU Score: 0.2805\n",
      "ROUGE-1 Score: 0.1818\n",
      "ROUGE-2 Score: 0.0000\n",
      "ROUGE-L Score: 0.1818\n",
      "\n",
      "\n",
      "원문 : Kunal Shah's credit card bill payment platform, CRED, gave users a chance to win free food from Swiggy for one year. Pranav Kaushik, a Delhi techie, bagged this reward after spending 2000 CRED coins. Users get one CRED coin per rupee of bill paid, which can be used to avail rewards from brands like Ixigo, BookMyShow, UberEats, Cult.Fit and more.\n",
      "실제 요약 : Delhi techie wins free food from Swiggy for one year on CRED\n",
      "추출적 요약 : Users get one CRED coin per rupee of bill paid, which can be used to avail rewards from brands like Ixigo, BookMyShow, UberEats, Cult.Fit and more.\n",
      "BLEU Score: 0.1389\n",
      "ROUGE-1 Score: 0.1538\n",
      "ROUGE-2 Score: 0.0000\n",
      "ROUGE-L Score: 0.1026\n",
      "\n",
      "\n",
      "원문 : New Zealand defeated India by 8 wickets in the fourth ODI at Hamilton on Thursday to win their first match of the five-match ODI series. India lost an international match under Rohit Sharma's captaincy after 12 consecutive victories dating back to March 2018. The match witnessed India getting all out for 92, their seventh lowest total in ODI cricket history.\n",
      "실제 요약 : New Zealand end Rohit Sharma-led India's 12-match winning streak\n",
      "추출적 요약 : The match witnessed India getting all out for 92, their seventh lowest total in ODI cricket history.\n",
      "BLEU Score: 0.2116\n",
      "ROUGE-1 Score: 0.1379\n",
      "ROUGE-2 Score: 0.0000\n",
      "ROUGE-L Score: 0.0690\n",
      "\n",
      "\n",
      "원문 : With Aegon Life iTerm Insurance plan, customers can enjoy tax benefits on your premiums paid and save up to Ã¢ÂÂ¹46,800^ on taxes. The plan provides life cover up to the age of 100 years. Also, customers have options to insure against Critical Illnesses, Disability and Accidental Death Benefit Rider with a life cover up to the age of 80 years.\n",
      "실제 요약 : Aegon life iTerm insurance plan helps customers save tax\n",
      "추출적 요약 : Also, customers have options to insure against Critical Illnesses, Disability and Accidental Death Benefit Rider with a life cover up to the age of 80 years.\n",
      "BLEU Score: 0.1709\n",
      "ROUGE-1 Score: 0.1714\n",
      "ROUGE-2 Score: 0.0000\n",
      "ROUGE-L Score: 0.0571\n",
      "\n",
      "\n",
      "원문 : Speaking about the sexual harassment allegations against Rajkumar Hirani, Sonam Kapoor said, \"I've known Hirani for many years...What if it's not true, the [#MeToo] movement will get derailed.\" \"In the #MeToo movement, I always believe a woman. But in this case, we need to reserve our judgment,\" she added. Hirani has been accused by an assistant who worked in 'Sanju'.\n",
      "실제 요약 : Have known Hirani for yrs, what if MeToo claims are not true: Sonam\n",
      "추출적 요약 : Speaking about the sexual harassment allegations against Rajkumar Hirani, Sonam Kapoor said, \"I've known Hirani for many years...What if it's not true, the [#MeToo] movement will get derailed.\" \"In the #MeToo movement, I always believe a woman.\n",
      "BLEU Score: 0.1883\n",
      "ROUGE-1 Score: 0.3396\n",
      "ROUGE-2 Score: 0.1569\n",
      "ROUGE-L Score: 0.2642\n",
      "\n",
      "\n",
      "원문 : Pakistani singer Rahat Fateh Ali Khan has denied receiving any notice from the Enforcement Directorate over allegedly smuggling foreign currency out of India. \"It would have been better if the authorities would have served the notice first if any and then publicised this,\" reads a press release issued on behalf of Rahat. The statement further called the allegation \"bizarre\".\n",
      "실제 요약 : Rahat Fateh Ali Khan denies getting notice for smuggling currency\n",
      "추출적 요약 : Pakistani singer Rahat Fateh Ali Khan has denied receiving any notice from the Enforcement Directorate over allegedly smuggling foreign currency out of India.\n",
      "BLEU Score: 0.3424\n",
      "ROUGE-1 Score: 0.4848\n",
      "ROUGE-2 Score: 0.1935\n",
      "ROUGE-L Score: 0.4848\n",
      "\n",
      "\n",
      "원문 : India recorded their lowest ODI total in New Zealand after getting all out for 92 runs in 30.5 overs in the fourth ODI at Hamilton on Thursday. Seven of India's batsmen were dismissed for single-digit scores, while their number ten batsman Yuzvendra Chahal top-scored with 18*(37). India's previous lowest ODI total in New Zealand was 108.\n",
      "실제 요약 : India get all out for 92, their lowest ODI total in New Zealand\n",
      "추출적 요약 : India's previous lowest ODI total in New Zealand was 108.\n",
      "BLEU Score: 0.5852\n",
      "ROUGE-1 Score: 0.5833\n",
      "ROUGE-2 Score: 0.4545\n",
      "ROUGE-L Score: 0.5833\n",
      "\n",
      "\n",
      "원문 : Weeks after ex-CBI Director Alok Verma told the Department of Personnel and Training to consider him retired, the Home Ministry asked him to join work on the last day of his fixed tenure as Director on Thursday. The ministry directed him to immediately join as DG, Fire Services, the post he was transferred to after his removal as CBI chief.\n",
      "실제 요약 : Govt directs Alok Verma to join work 1 day before his retirement\n",
      "추출적 요약 : Weeks after ex-CBI Director Alok Verma told the Department of Personnel and Training to consider him retired, the Home Ministry asked him to join work on the last day of his fixed tenure as Director on Thursday.\n",
      "BLEU Score: 0.2143\n",
      "ROUGE-1 Score: 0.3200\n",
      "ROUGE-2 Score: 0.1250\n",
      "ROUGE-L Score: 0.2800\n",
      "\n",
      "\n",
      "원문 : Andhra Pradesh CM N Chandrababu Naidu has said, \"When I met then US President Bill Clinton, I addressed him as Mr Clinton, not as 'sir'. (PM Narendra) Modi is my junior in politics...I addressed him as sir 10 times.\" \"I did this...to satisfy his ego in the hope that he will do justice to the state,\" he added.\n",
      "실제 요약 : Called PM Modi 'sir' 10 times to satisfy his ego: Andhra CM\n",
      "추출적 요약 : Andhra Pradesh CM N Chandrababu Naidu has said, \"When I met then US President Bill Clinton, I addressed him as Mr Clinton, not as 'sir'.\n",
      "BLEU Score: 0.1443\n",
      "ROUGE-1 Score: 0.1622\n",
      "ROUGE-2 Score: 0.0000\n",
      "ROUGE-L Score: 0.1081\n",
      "\n",
      "\n",
      "원문 : Congress candidate Shafia Zubair won the Ramgarh Assembly seat in Rajasthan, by defeating BJP's Sukhwant Singh with a margin of 12,228 votes in the bypoll. With this victory, Congress has taken its total to 100 seats in the 200-member assembly. The election to the Ramgarh seat was delayed due to the death of sitting MLA and BSP candidate Laxman Singh.\n",
      "실제 요약 : Cong wins Ramgarh bypoll in Rajasthan, takes total to 100 seats\n",
      "추출적 요약 : Congress candidate Shafia Zubair won the Ramgarh Assembly seat in Rajasthan, by defeating BJP's Sukhwant Singh with a margin of 12,228 votes in the bypoll.\n",
      "BLEU Score: 0.2541\n",
      "ROUGE-1 Score: 0.2632\n",
      "ROUGE-2 Score: 0.0556\n",
      "ROUGE-L Score: 0.1579\n",
      "\n",
      "\n"
     ]
    }
   ],
   "source": [
    "for i in range(0, 10):\n",
    "    print(\"원문 :\", data3['text'][i])\n",
    "    print(\"실제 요약 :\", data3['headlines'][i])\n",
    "    print(\"추출적 요약 :\", recall_summarize(summarize, data3['text'][i], 5))\n",
    "    \n",
    "    bleu_score = calculate_bleu_score(data3['headlines'][i], recall_summarize(summarize, data3['text'][i], 5))\n",
    "    print(f\"BLEU Score: {bleu_score:.4f}\")\n",
    "    # ROUGE 점수 계산\n",
    "    rouge_score = calculate_rouge_score(data3['headlines'][i], recall_summarize(summarize, data3['text'][i], 5))\n",
    "    print(f\"ROUGE-1 Score: {rouge_score['rouge1'].fmeasure:.4f}\")\n",
    "    print(f\"ROUGE-2 Score: {rouge_score['rouge2'].fmeasure:.4f}\")\n",
    "    print(f\"ROUGE-L Score: {rouge_score['rougeL'].fmeasure:.4f}\")\n",
    "    \n",
    "    print(\"\\n\")"
   ]
  },
  {
   "cell_type": "markdown",
   "id": "50219227",
   "metadata": {},
   "source": [
    "### 회고"
   ]
  },
  {
   "cell_type": "markdown",
   "id": "0a77683f",
   "metadata": {},
   "source": [
    "#### Keep\n",
    "긴것뿐만이 아니라 짧은 것도 제거하는 것은 잘한 것 같다. 그렇지만 꽤나 많이 잘랐음에도 99%로 이상치로 판단할 수 있었다. 코드만으로 구조가 이해가 안가, model plot으로 그려보았다.\n",
    "\n",
    "### Problem\n",
    "1. 추출적 요약이 안나와 고생하였다. 데이터 전처리하는 과정에서 인코딩의 차이가 생기는 듯 했다.\n",
    "2. 추출적 요약은 현재 데이터의 문장이 짧기 때문에, ratio보단 words로 했을 때 잘 나오고 일부 문장은 words의 수치가 너무 작아 안나오기도 했다.\n",
    "\n",
    "### Try\n",
    "1. 데이터를 다시 불러오는 식으로 진행하였다.\n",
    "2. 재귀호출함수를 써서 크기에 상관없이 출력되도록 조정하였다."
   ]
  }
 ],
 "metadata": {
  "kernelspec": {
   "display_name": "Python 3 (ipykernel)",
   "language": "python",
   "name": "python3"
  },
  "language_info": {
   "codemirror_mode": {
    "name": "ipython",
    "version": 3
   },
   "file_extension": ".py",
   "mimetype": "text/x-python",
   "name": "python",
   "nbconvert_exporter": "python",
   "pygments_lexer": "ipython3",
   "version": "3.9.7"
  }
 },
 "nbformat": 4,
 "nbformat_minor": 5
}
